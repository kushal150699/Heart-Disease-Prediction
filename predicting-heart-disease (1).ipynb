{
 "cells": [
  {
   "cell_type": "code",
   "execution_count": 1,
   "id": "bce46bd9",
   "metadata": {
    "_cell_guid": "b1076dfc-b9ad-4769-8c92-a6c4dae69d19",
    "_uuid": "8f2839f25d086af736a60e9eeb907d3b93b6e0e5",
    "execution": {
     "iopub.execute_input": "2022-02-24T11:00:46.610359Z",
     "iopub.status.busy": "2022-02-24T11:00:46.609143Z",
     "iopub.status.idle": "2022-02-24T11:00:46.618811Z",
     "shell.execute_reply": "2022-02-24T11:00:46.619414Z",
     "shell.execute_reply.started": "2022-02-24T10:57:54.844446Z"
    },
    "papermill": {
     "duration": 0.08273,
     "end_time": "2022-02-24T11:00:46.619778",
     "exception": false,
     "start_time": "2022-02-24T11:00:46.537048",
     "status": "completed"
    },
    "tags": []
   },
   "outputs": [],
   "source": [
    "import numpy as np # linear algebra\n",
    "import pandas as pd # data processing, CSV file I/O (e.g. pd.read_csv)"
   ]
  },
  {
   "cell_type": "code",
   "execution_count": 2,
   "id": "9fb57ef8",
   "metadata": {
    "execution": {
     "iopub.execute_input": "2022-02-24T11:00:46.750458Z",
     "iopub.status.busy": "2022-02-24T11:00:46.749750Z",
     "iopub.status.idle": "2022-02-24T11:00:48.271912Z",
     "shell.execute_reply": "2022-02-24T11:00:48.272394Z",
     "shell.execute_reply.started": "2022-02-24T10:57:54.867214Z"
    },
    "papermill": {
     "duration": 1.587993,
     "end_time": "2022-02-24T11:00:48.272629",
     "exception": false,
     "start_time": "2022-02-24T11:00:46.684636",
     "status": "completed"
    },
    "tags": []
   },
   "outputs": [],
   "source": [
    "# Regular EDA (exploratory data analysis) and plotting libraries\n",
    "\n",
    "import pandas as pd\n",
    "import numpy as np\n",
    "import matplotlib.pyplot as plt\n",
    "import seaborn as sns\n",
    "\n",
    "# we want our plots to appear inside the notebook\n",
    "%matplotlib inline\n",
    "\n",
    "#Models from Scikit-learn\n",
    "from sklearn.linear_model import LogisticRegression\n",
    "from sklearn.neighbors import KNeighborsClassifier\n",
    "from sklearn.ensemble import RandomForestClassifier\n",
    "\n",
    "# Model Evaluations\n",
    "from sklearn.model_selection import train_test_split,cross_val_score\n",
    "from sklearn.model_selection import GridSearchCV,RandomizedSearchCV\n",
    "from sklearn.metrics import confusion_matrix,classification_report\n",
    "from sklearn.metrics import precision_score,recall_score,f1_score\n",
    "from sklearn.metrics import plot_roc_curve"
   ]
  },
  {
   "cell_type": "markdown",
   "id": "7c931b09",
   "metadata": {
    "papermill": {
     "duration": 0.062183,
     "end_time": "2022-02-24T11:00:48.399922",
     "exception": false,
     "start_time": "2022-02-24T11:00:48.337739",
     "status": "completed"
    },
    "tags": []
   },
   "source": [
    "## Load data"
   ]
  },
  {
   "cell_type": "code",
   "execution_count": 3,
   "id": "a79ada6a",
   "metadata": {
    "execution": {
     "iopub.execute_input": "2022-02-24T11:00:48.528721Z",
     "iopub.status.busy": "2022-02-24T11:00:48.528015Z",
     "iopub.status.idle": "2022-02-24T11:00:48.558859Z",
     "shell.execute_reply": "2022-02-24T11:00:48.559404Z",
     "shell.execute_reply.started": "2022-02-24T10:57:55.980891Z"
    },
    "papermill": {
     "duration": 0.09685,
     "end_time": "2022-02-24T11:00:48.559641",
     "exception": false,
     "start_time": "2022-02-24T11:00:48.462791",
     "status": "completed"
    },
    "tags": []
   },
   "outputs": [
    {
     "data": {
      "text/plain": [
       "(303, 14)"
      ]
     },
     "execution_count": 3,
     "metadata": {},
     "output_type": "execute_result"
    }
   ],
   "source": [
    "df =pd.read_csv(\"../input/heart-disease/6.1 heart-disease.csv\")\n",
    "df.shape"
   ]
  },
  {
   "cell_type": "markdown",
   "id": "efeefa05",
   "metadata": {
    "papermill": {
     "duration": 0.061973,
     "end_time": "2022-02-24T11:00:48.685456",
     "exception": false,
     "start_time": "2022-02-24T11:00:48.623483",
     "status": "completed"
    },
    "tags": []
   },
   "source": [
    "## Data Exploration (exploratory data analysis or EDA)\n",
    "\n",
    "1. What question(s) are you trying to solve?\n",
    "1. What kind of data do we have and how do we treat different types?\n",
    "1. What's missing from the data and how do you deal with it?\n",
    "1. Where are the outliers and why should you care about them?\n",
    "1. How can you add, change or remove features to get more out of your data?"
   ]
  },
  {
   "cell_type": "code",
   "execution_count": 4,
   "id": "db899480",
   "metadata": {
    "execution": {
     "iopub.execute_input": "2022-02-24T11:00:48.813810Z",
     "iopub.status.busy": "2022-02-24T11:00:48.813034Z",
     "iopub.status.idle": "2022-02-24T11:00:48.834453Z",
     "shell.execute_reply": "2022-02-24T11:00:48.835041Z",
     "shell.execute_reply.started": "2022-02-24T10:57:56.003370Z"
    },
    "papermill": {
     "duration": 0.087226,
     "end_time": "2022-02-24T11:00:48.835246",
     "exception": false,
     "start_time": "2022-02-24T11:00:48.748020",
     "status": "completed"
    },
    "tags": []
   },
   "outputs": [
    {
     "data": {
      "text/html": [
       "<div>\n",
       "<style scoped>\n",
       "    .dataframe tbody tr th:only-of-type {\n",
       "        vertical-align: middle;\n",
       "    }\n",
       "\n",
       "    .dataframe tbody tr th {\n",
       "        vertical-align: top;\n",
       "    }\n",
       "\n",
       "    .dataframe thead th {\n",
       "        text-align: right;\n",
       "    }\n",
       "</style>\n",
       "<table border=\"1\" class=\"dataframe\">\n",
       "  <thead>\n",
       "    <tr style=\"text-align: right;\">\n",
       "      <th></th>\n",
       "      <th>age</th>\n",
       "      <th>sex</th>\n",
       "      <th>cp</th>\n",
       "      <th>trestbps</th>\n",
       "      <th>chol</th>\n",
       "      <th>fbs</th>\n",
       "      <th>restecg</th>\n",
       "      <th>thalach</th>\n",
       "      <th>exang</th>\n",
       "      <th>oldpeak</th>\n",
       "      <th>slope</th>\n",
       "      <th>ca</th>\n",
       "      <th>thal</th>\n",
       "      <th>target</th>\n",
       "    </tr>\n",
       "  </thead>\n",
       "  <tbody>\n",
       "    <tr>\n",
       "      <th>0</th>\n",
       "      <td>63</td>\n",
       "      <td>1</td>\n",
       "      <td>3</td>\n",
       "      <td>145</td>\n",
       "      <td>233</td>\n",
       "      <td>1</td>\n",
       "      <td>0</td>\n",
       "      <td>150</td>\n",
       "      <td>0</td>\n",
       "      <td>2.3</td>\n",
       "      <td>0</td>\n",
       "      <td>0</td>\n",
       "      <td>1</td>\n",
       "      <td>1</td>\n",
       "    </tr>\n",
       "    <tr>\n",
       "      <th>1</th>\n",
       "      <td>37</td>\n",
       "      <td>1</td>\n",
       "      <td>2</td>\n",
       "      <td>130</td>\n",
       "      <td>250</td>\n",
       "      <td>0</td>\n",
       "      <td>1</td>\n",
       "      <td>187</td>\n",
       "      <td>0</td>\n",
       "      <td>3.5</td>\n",
       "      <td>0</td>\n",
       "      <td>0</td>\n",
       "      <td>2</td>\n",
       "      <td>1</td>\n",
       "    </tr>\n",
       "    <tr>\n",
       "      <th>2</th>\n",
       "      <td>41</td>\n",
       "      <td>0</td>\n",
       "      <td>1</td>\n",
       "      <td>130</td>\n",
       "      <td>204</td>\n",
       "      <td>0</td>\n",
       "      <td>0</td>\n",
       "      <td>172</td>\n",
       "      <td>0</td>\n",
       "      <td>1.4</td>\n",
       "      <td>2</td>\n",
       "      <td>0</td>\n",
       "      <td>2</td>\n",
       "      <td>1</td>\n",
       "    </tr>\n",
       "    <tr>\n",
       "      <th>3</th>\n",
       "      <td>56</td>\n",
       "      <td>1</td>\n",
       "      <td>1</td>\n",
       "      <td>120</td>\n",
       "      <td>236</td>\n",
       "      <td>0</td>\n",
       "      <td>1</td>\n",
       "      <td>178</td>\n",
       "      <td>0</td>\n",
       "      <td>0.8</td>\n",
       "      <td>2</td>\n",
       "      <td>0</td>\n",
       "      <td>2</td>\n",
       "      <td>1</td>\n",
       "    </tr>\n",
       "    <tr>\n",
       "      <th>4</th>\n",
       "      <td>57</td>\n",
       "      <td>0</td>\n",
       "      <td>0</td>\n",
       "      <td>120</td>\n",
       "      <td>354</td>\n",
       "      <td>0</td>\n",
       "      <td>1</td>\n",
       "      <td>163</td>\n",
       "      <td>1</td>\n",
       "      <td>0.6</td>\n",
       "      <td>2</td>\n",
       "      <td>0</td>\n",
       "      <td>2</td>\n",
       "      <td>1</td>\n",
       "    </tr>\n",
       "  </tbody>\n",
       "</table>\n",
       "</div>"
      ],
      "text/plain": [
       "   age  sex  cp  trestbps  chol  fbs  restecg  thalach  exang  oldpeak  slope  \\\n",
       "0   63    1   3       145   233    1        0      150      0      2.3      0   \n",
       "1   37    1   2       130   250    0        1      187      0      3.5      0   \n",
       "2   41    0   1       130   204    0        0      172      0      1.4      2   \n",
       "3   56    1   1       120   236    0        1      178      0      0.8      2   \n",
       "4   57    0   0       120   354    0        1      163      1      0.6      2   \n",
       "\n",
       "   ca  thal  target  \n",
       "0   0     1       1  \n",
       "1   0     2       1  \n",
       "2   0     2       1  \n",
       "3   0     2       1  \n",
       "4   0     2       1  "
      ]
     },
     "execution_count": 4,
     "metadata": {},
     "output_type": "execute_result"
    }
   ],
   "source": [
    "df.head()"
   ]
  },
  {
   "cell_type": "code",
   "execution_count": 5,
   "id": "927dec2c",
   "metadata": {
    "execution": {
     "iopub.execute_input": "2022-02-24T11:00:48.974502Z",
     "iopub.status.busy": "2022-02-24T11:00:48.973773Z",
     "iopub.status.idle": "2022-02-24T11:00:48.979291Z",
     "shell.execute_reply": "2022-02-24T11:00:48.979982Z",
     "shell.execute_reply.started": "2022-02-24T10:57:56.023804Z"
    },
    "papermill": {
     "duration": 0.081586,
     "end_time": "2022-02-24T11:00:48.980189",
     "exception": false,
     "start_time": "2022-02-24T11:00:48.898603",
     "status": "completed"
    },
    "tags": []
   },
   "outputs": [
    {
     "data": {
      "text/plain": [
       "1    165\n",
       "0    138\n",
       "Name: target, dtype: int64"
      ]
     },
     "execution_count": 5,
     "metadata": {},
     "output_type": "execute_result"
    }
   ],
   "source": [
    "# Let's find out how many of each class there\n",
    "df[\"target\"].value_counts()"
   ]
  },
  {
   "cell_type": "code",
   "execution_count": 6,
   "id": "cb34a289",
   "metadata": {
    "execution": {
     "iopub.execute_input": "2022-02-24T11:00:49.114563Z",
     "iopub.status.busy": "2022-02-24T11:00:49.113848Z",
     "iopub.status.idle": "2022-02-24T11:00:49.359777Z",
     "shell.execute_reply": "2022-02-24T11:00:49.359235Z",
     "shell.execute_reply.started": "2022-02-24T10:57:56.037828Z"
    },
    "papermill": {
     "duration": 0.31563,
     "end_time": "2022-02-24T11:00:49.359937",
     "exception": false,
     "start_time": "2022-02-24T11:00:49.044307",
     "status": "completed"
    },
    "tags": []
   },
   "outputs": [
    {
     "data": {
      "image/png": "[encoded data removed]",
      "text/plain": [
       "<Figure size 432x288 with 1 Axes>"
      ]
     },
     "metadata": {
      "needs_background": "light"
     },
     "output_type": "display_data"
    }
   ],
   "source": [
    "df.target.value_counts().plot(kind=\"bar\",\n",
    "                             color=[\"salmon\",\"lightblue\"]);\n",
    "plt.xticks(rotation=0);"
   ]
  },
  {
   "cell_type": "code",
   "execution_count": 7,
   "id": "60102c2c",
   "metadata": {
    "execution": {
     "iopub.execute_input": "2022-02-24T11:00:49.498652Z",
     "iopub.status.busy": "2022-02-24T11:00:49.497907Z",
     "iopub.status.idle": "2022-02-24T11:00:49.514142Z",
     "shell.execute_reply": "2022-02-24T11:00:49.513267Z",
     "shell.execute_reply.started": "2022-02-24T10:57:56.238927Z"
    },
    "papermill": {
     "duration": 0.090161,
     "end_time": "2022-02-24T11:00:49.514378",
     "exception": false,
     "start_time": "2022-02-24T11:00:49.424217",
     "status": "completed"
    },
    "tags": []
   },
   "outputs": [
    {
     "name": "stdout",
     "output_type": "stream",
     "text": [
      "<class 'pandas.core.frame.DataFrame'>\n",
      "RangeIndex: 303 entries, 0 to 302\n",
      "Data columns (total 14 columns):\n",
      " #   Column    Non-Null Count  Dtype  \n",
      "---  ------    --------------  -----  \n",
      " 0   age       303 non-null    int64  \n",
      " 1   sex       303 non-null    int64  \n",
      " 2   cp        303 non-null    int64  \n",
      " 3   trestbps  303 non-null    int64  \n",
      " 4   chol      303 non-null    int64  \n",
      " 5   fbs       303 non-null    int64  \n",
      " 6   restecg   303 non-null    int64  \n",
      " 7   thalach   303 non-null    int64  \n",
      " 8   exang     303 non-null    int64  \n",
      " 9   oldpeak   303 non-null    float64\n",
      " 10  slope     303 non-null    int64  \n",
      " 11  ca        303 non-null    int64  \n",
      " 12  thal      303 non-null    int64  \n",
      " 13  target    303 non-null    int64  \n",
      "dtypes: float64(1), int64(13)\n",
      "memory usage: 33.3 KB\n"
     ]
    }
   ],
   "source": [
    "df.info()"
   ]
  },
  {
   "cell_type": "code",
   "execution_count": 8,
   "id": "917df4d4",
   "metadata": {
    "execution": {
     "iopub.execute_input": "2022-02-24T11:00:49.650033Z",
     "iopub.status.busy": "2022-02-24T11:00:49.649356Z",
     "iopub.status.idle": "2022-02-24T11:00:49.658222Z",
     "shell.execute_reply": "2022-02-24T11:00:49.657573Z",
     "shell.execute_reply.started": "2022-02-24T10:57:56.253472Z"
    },
    "papermill": {
     "duration": 0.076895,
     "end_time": "2022-02-24T11:00:49.658377",
     "exception": false,
     "start_time": "2022-02-24T11:00:49.581482",
     "status": "completed"
    },
    "tags": []
   },
   "outputs": [
    {
     "data": {
      "text/plain": [
       "age         0\n",
       "sex         0\n",
       "cp          0\n",
       "trestbps    0\n",
       "chol        0\n",
       "fbs         0\n",
       "restecg     0\n",
       "thalach     0\n",
       "exang       0\n",
       "oldpeak     0\n",
       "slope       0\n",
       "ca          0\n",
       "thal        0\n",
       "target      0\n",
       "dtype: int64"
      ]
     },
     "execution_count": 8,
     "metadata": {},
     "output_type": "execute_result"
    }
   ],
   "source": [
    "# Are there any missing values?\n",
    "df.isna().sum()"
   ]
  },
  {
   "cell_type": "code",
   "execution_count": 9,
   "id": "40b3a785",
   "metadata": {
    "execution": {
     "iopub.execute_input": "2022-02-24T11:00:49.800662Z",
     "iopub.status.busy": "2022-02-24T11:00:49.799568Z",
     "iopub.status.idle": "2022-02-24T11:00:49.844950Z",
     "shell.execute_reply": "2022-02-24T11:00:49.844389Z",
     "shell.execute_reply.started": "2022-02-24T10:57:56.272097Z"
    },
    "papermill": {
     "duration": 0.121235,
     "end_time": "2022-02-24T11:00:49.845110",
     "exception": false,
     "start_time": "2022-02-24T11:00:49.723875",
     "status": "completed"
    },
    "tags": []
   },
   "outputs": [
    {
     "data": {
      "text/html": [
       "<div>\n",
       "<style scoped>\n",
       "    .dataframe tbody tr th:only-of-type {\n",
       "        vertical-align: middle;\n",
       "    }\n",
       "\n",
       "    .dataframe tbody tr th {\n",
       "        vertical-align: top;\n",
       "    }\n",
       "\n",
       "    .dataframe thead th {\n",
       "        text-align: right;\n",
       "    }\n",
       "</style>\n",
       "<table border=\"1\" class=\"dataframe\">\n",
       "  <thead>\n",
       "    <tr style=\"text-align: right;\">\n",
       "      <th></th>\n",
       "      <th>age</th>\n",
       "      <th>sex</th>\n",
       "      <th>cp</th>\n",
       "      <th>trestbps</th>\n",
       "      <th>chol</th>\n",
       "      <th>fbs</th>\n",
       "      <th>restecg</th>\n",
       "      <th>thalach</th>\n",
       "      <th>exang</th>\n",
       "      <th>oldpeak</th>\n",
       "      <th>slope</th>\n",
       "      <th>ca</th>\n",
       "      <th>thal</th>\n",
       "      <th>target</th>\n",
       "    </tr>\n",
       "  </thead>\n",
       "  <tbody>\n",
       "    <tr>\n",
       "      <th>count</th>\n",
       "      <td>303.000000</td>\n",
       "      <td>303.000000</td>\n",
       "      <td>303.000000</td>\n",
       "      <td>303.000000</td>\n",
       "      <td>303.000000</td>\n",
       "      <td>303.000000</td>\n",
       "      <td>303.000000</td>\n",
       "      <td>303.000000</td>\n",
       "      <td>303.000000</td>\n",
       "      <td>303.000000</td>\n",
       "      <td>303.000000</td>\n",
       "      <td>303.000000</td>\n",
       "      <td>303.000000</td>\n",
       "      <td>303.000000</td>\n",
       "    </tr>\n",
       "    <tr>\n",
       "      <th>mean</th>\n",
       "      <td>54.366337</td>\n",
       "      <td>0.683168</td>\n",
       "      <td>0.966997</td>\n",
       "      <td>131.623762</td>\n",
       "      <td>246.264026</td>\n",
       "      <td>0.148515</td>\n",
       "      <td>0.528053</td>\n",
       "      <td>149.646865</td>\n",
       "      <td>0.326733</td>\n",
       "      <td>1.039604</td>\n",
       "      <td>1.399340</td>\n",
       "      <td>0.729373</td>\n",
       "      <td>2.313531</td>\n",
       "      <td>0.544554</td>\n",
       "    </tr>\n",
       "    <tr>\n",
       "      <th>std</th>\n",
       "      <td>9.082101</td>\n",
       "      <td>0.466011</td>\n",
       "      <td>1.032052</td>\n",
       "      <td>17.538143</td>\n",
       "      <td>51.830751</td>\n",
       "      <td>0.356198</td>\n",
       "      <td>0.525860</td>\n",
       "      <td>22.905161</td>\n",
       "      <td>0.469794</td>\n",
       "      <td>1.161075</td>\n",
       "      <td>0.616226</td>\n",
       "      <td>1.022606</td>\n",
       "      <td>0.612277</td>\n",
       "      <td>0.498835</td>\n",
       "    </tr>\n",
       "    <tr>\n",
       "      <th>min</th>\n",
       "      <td>29.000000</td>\n",
       "      <td>0.000000</td>\n",
       "      <td>0.000000</td>\n",
       "      <td>94.000000</td>\n",
       "      <td>126.000000</td>\n",
       "      <td>0.000000</td>\n",
       "      <td>0.000000</td>\n",
       "      <td>71.000000</td>\n",
       "      <td>0.000000</td>\n",
       "      <td>0.000000</td>\n",
       "      <td>0.000000</td>\n",
       "      <td>0.000000</td>\n",
       "      <td>0.000000</td>\n",
       "      <td>0.000000</td>\n",
       "    </tr>\n",
       "    <tr>\n",
       "      <th>25%</th>\n",
       "      <td>47.500000</td>\n",
       "      <td>0.000000</td>\n",
       "      <td>0.000000</td>\n",
       "      <td>120.000000</td>\n",
       "      <td>211.000000</td>\n",
       "      <td>0.000000</td>\n",
       "      <td>0.000000</td>\n",
       "      <td>133.500000</td>\n",
       "      <td>0.000000</td>\n",
       "      <td>0.000000</td>\n",
       "      <td>1.000000</td>\n",
       "      <td>0.000000</td>\n",
       "      <td>2.000000</td>\n",
       "      <td>0.000000</td>\n",
       "    </tr>\n",
       "    <tr>\n",
       "      <th>50%</th>\n",
       "      <td>55.000000</td>\n",
       "      <td>1.000000</td>\n",
       "      <td>1.000000</td>\n",
       "      <td>130.000000</td>\n",
       "      <td>240.000000</td>\n",
       "      <td>0.000000</td>\n",
       "      <td>1.000000</td>\n",
       "      <td>153.000000</td>\n",
       "      <td>0.000000</td>\n",
       "      <td>0.800000</td>\n",
       "      <td>1.000000</td>\n",
       "      <td>0.000000</td>\n",
       "      <td>2.000000</td>\n",
       "      <td>1.000000</td>\n",
       "    </tr>\n",
       "    <tr>\n",
       "      <th>75%</th>\n",
       "      <td>61.000000</td>\n",
       "      <td>1.000000</td>\n",
       "      <td>2.000000</td>\n",
       "      <td>140.000000</td>\n",
       "      <td>274.500000</td>\n",
       "      <td>0.000000</td>\n",
       "      <td>1.000000</td>\n",
       "      <td>166.000000</td>\n",
       "      <td>1.000000</td>\n",
       "      <td>1.600000</td>\n",
       "      <td>2.000000</td>\n",
       "      <td>1.000000</td>\n",
       "      <td>3.000000</td>\n",
       "      <td>1.000000</td>\n",
       "    </tr>\n",
       "    <tr>\n",
       "      <th>max</th>\n",
       "      <td>77.000000</td>\n",
       "      <td>1.000000</td>\n",
       "      <td>3.000000</td>\n",
       "      <td>200.000000</td>\n",
       "      <td>564.000000</td>\n",
       "      <td>1.000000</td>\n",
       "      <td>2.000000</td>\n",
       "      <td>202.000000</td>\n",
       "      <td>1.000000</td>\n",
       "      <td>6.200000</td>\n",
       "      <td>2.000000</td>\n",
       "      <td>4.000000</td>\n",
       "      <td>3.000000</td>\n",
       "      <td>1.000000</td>\n",
       "    </tr>\n",
       "  </tbody>\n",
       "</table>\n",
       "</div>"
      ],
      "text/plain": [
       "              age         sex          cp    trestbps        chol         fbs  \\\n",
       "count  303.000000  303.000000  303.000000  303.000000  303.000000  303.000000   \n",
       "mean    54.366337    0.683168    0.966997  131.623762  246.264026    0.148515   \n",
       "std      9.082101    0.466011    1.032052   17.538143   51.830751    0.356198   \n",
       "min     29.000000    0.000000    0.000000   94.000000  126.000000    0.000000   \n",
       "25%     47.500000    0.000000    0.000000  120.000000  211.000000    0.000000   \n",
       "50%     55.000000    1.000000    1.000000  130.000000  240.000000    0.000000   \n",
       "75%     61.000000    1.000000    2.000000  140.000000  274.500000    0.000000   \n",
       "max     77.000000    1.000000    3.000000  200.000000  564.000000    1.000000   \n",
       "\n",
       "          restecg     thalach       exang     oldpeak       slope          ca  \\\n",
       "count  303.000000  303.000000  303.000000  303.000000  303.000000  303.000000   \n",
       "mean     0.528053  149.646865    0.326733    1.039604    1.399340    0.729373   \n",
       "std      0.525860   22.905161    0.469794    1.161075    0.616226    1.022606   \n",
       "min      0.000000   71.000000    0.000000    0.000000    0.000000    0.000000   \n",
       "25%      0.000000  133.500000    0.000000    0.000000    1.000000    0.000000   \n",
       "50%      1.000000  153.000000    0.000000    0.800000    1.000000    0.000000   \n",
       "75%      1.000000  166.000000    1.000000    1.600000    2.000000    1.000000   \n",
       "max      2.000000  202.000000    1.000000    6.200000    2.000000    4.000000   \n",
       "\n",
       "             thal      target  \n",
       "count  303.000000  303.000000  \n",
       "mean     2.313531    0.544554  \n",
       "std      0.612277    0.498835  \n",
       "min      0.000000    0.000000  \n",
       "25%      2.000000    0.000000  \n",
       "50%      2.000000    1.000000  \n",
       "75%      3.000000    1.000000  \n",
       "max      3.000000    1.000000  "
      ]
     },
     "execution_count": 9,
     "metadata": {},
     "output_type": "execute_result"
    }
   ],
   "source": [
    "df.describe()"
   ]
  },
  {
   "cell_type": "markdown",
   "id": "3acf446a",
   "metadata": {
    "papermill": {
     "duration": 0.066613,
     "end_time": "2022-02-24T11:00:49.977853",
     "exception": false,
     "start_time": "2022-02-24T11:00:49.911240",
     "status": "completed"
    },
    "tags": []
   },
   "source": [
    "### Heart Disease Frequency according to Sex\n",
    "### sex - (1 = male; 0 = female)"
   ]
  },
  {
   "cell_type": "code",
   "execution_count": 10,
   "id": "452e6e6f",
   "metadata": {
    "execution": {
     "iopub.execute_input": "2022-02-24T11:00:50.122655Z",
     "iopub.status.busy": "2022-02-24T11:00:50.121947Z",
     "iopub.status.idle": "2022-02-24T11:00:50.124707Z",
     "shell.execute_reply": "2022-02-24T11:00:50.125198Z",
     "shell.execute_reply.started": "2022-02-24T10:57:56.316596Z"
    },
    "papermill": {
     "duration": 0.079163,
     "end_time": "2022-02-24T11:00:50.125384",
     "exception": false,
     "start_time": "2022-02-24T11:00:50.046221",
     "status": "completed"
    },
    "tags": []
   },
   "outputs": [
    {
     "data": {
      "text/plain": [
       "1    207\n",
       "0     96\n",
       "Name: sex, dtype: int64"
      ]
     },
     "execution_count": 10,
     "metadata": {},
     "output_type": "execute_result"
    }
   ],
   "source": [
    "df.sex.value_counts()"
   ]
  },
  {
   "cell_type": "code",
   "execution_count": 11,
   "id": "616a30f6",
   "metadata": {
    "execution": {
     "iopub.execute_input": "2022-02-24T11:00:50.261720Z",
     "iopub.status.busy": "2022-02-24T11:00:50.261045Z",
     "iopub.status.idle": "2022-02-24T11:00:50.288911Z",
     "shell.execute_reply": "2022-02-24T11:00:50.288226Z",
     "shell.execute_reply.started": "2022-02-24T10:57:56.324791Z"
    },
    "papermill": {
     "duration": 0.097234,
     "end_time": "2022-02-24T11:00:50.289073",
     "exception": false,
     "start_time": "2022-02-24T11:00:50.191839",
     "status": "completed"
    },
    "tags": []
   },
   "outputs": [
    {
     "data": {
      "text/html": [
       "<div>\n",
       "<style scoped>\n",
       "    .dataframe tbody tr th:only-of-type {\n",
       "        vertical-align: middle;\n",
       "    }\n",
       "\n",
       "    .dataframe tbody tr th {\n",
       "        vertical-align: top;\n",
       "    }\n",
       "\n",
       "    .dataframe thead th {\n",
       "        text-align: right;\n",
       "    }\n",
       "</style>\n",
       "<table border=\"1\" class=\"dataframe\">\n",
       "  <thead>\n",
       "    <tr style=\"text-align: right;\">\n",
       "      <th>sex</th>\n",
       "      <th>0</th>\n",
       "      <th>1</th>\n",
       "    </tr>\n",
       "    <tr>\n",
       "      <th>target</th>\n",
       "      <th></th>\n",
       "      <th></th>\n",
       "    </tr>\n",
       "  </thead>\n",
       "  <tbody>\n",
       "    <tr>\n",
       "      <th>0</th>\n",
       "      <td>24</td>\n",
       "      <td>114</td>\n",
       "    </tr>\n",
       "    <tr>\n",
       "      <th>1</th>\n",
       "      <td>72</td>\n",
       "      <td>93</td>\n",
       "    </tr>\n",
       "  </tbody>\n",
       "</table>\n",
       "</div>"
      ],
      "text/plain": [
       "sex      0    1\n",
       "target         \n",
       "0       24  114\n",
       "1       72   93"
      ]
     },
     "execution_count": 11,
     "metadata": {},
     "output_type": "execute_result"
    }
   ],
   "source": [
    "pd.crosstab(df.target,df.sex)"
   ]
  },
  {
   "cell_type": "code",
   "execution_count": 12,
   "id": "b3300295",
   "metadata": {
    "execution": {
     "iopub.execute_input": "2022-02-24T11:00:50.433940Z",
     "iopub.status.busy": "2022-02-24T11:00:50.433233Z",
     "iopub.status.idle": "2022-02-24T11:00:50.674595Z",
     "shell.execute_reply": "2022-02-24T11:00:50.675158Z",
     "shell.execute_reply.started": "2022-02-24T10:57:56.349228Z"
    },
    "papermill": {
     "duration": 0.319079,
     "end_time": "2022-02-24T11:00:50.675364",
     "exception": false,
     "start_time": "2022-02-24T11:00:50.356285",
     "status": "completed"
    },
    "tags": []
   },
   "outputs": [
    {
     "data": {
      "image/png": "[encoded data removed]",
      "text/plain": [
       "<Figure size 720x432 with 1 Axes>"
      ]
     },
     "metadata": {
      "needs_background": "light"
     },
     "output_type": "display_data"
    }
   ],
   "source": [
    "# Create a plot of crosstab\n",
    "pd.crosstab(df.target,df.sex).plot(kind=\"bar\",figsize=(10,6),color=[\"salmon\",\"lightblue\"]);\n",
    "plt.legend([\"Female\",\"Male\"])\n",
    "plt.title(\"Heart Disease Frequency for Sex\")\n",
    "plt.xlabel(\"0 = No Diesease, 1 = Disease\")\n",
    "plt.ylabel(\"Amount\")\n",
    "plt.xticks(rotation=0);"
   ]
  },
  {
   "cell_type": "markdown",
   "id": "53c50e49",
   "metadata": {
    "papermill": {
     "duration": 0.070742,
     "end_time": "2022-02-24T11:00:50.814683",
     "exception": false,
     "start_time": "2022-02-24T11:00:50.743941",
     "status": "completed"
    },
    "tags": []
   },
   "source": [
    "### Age vs. Max Heart Rate for Heart Disease"
   ]
  },
  {
   "cell_type": "code",
   "execution_count": 13,
   "id": "1a5fb6b3",
   "metadata": {
    "execution": {
     "iopub.execute_input": "2022-02-24T11:00:50.967742Z",
     "iopub.status.busy": "2022-02-24T11:00:50.957917Z",
     "iopub.status.idle": "2022-02-24T11:00:51.281707Z",
     "shell.execute_reply": "2022-02-24T11:00:51.281139Z",
     "shell.execute_reply.started": "2022-02-24T10:57:56.574518Z"
    },
    "papermill": {
     "duration": 0.399649,
     "end_time": "2022-02-24T11:00:51.281883",
     "exception": false,
     "start_time": "2022-02-24T11:00:50.882234",
     "status": "completed"
    },
    "tags": []
   },
   "outputs": [
    {
     "data": {
      "image/png": "[encoded data removed]",
      "text/plain": [
       "<Figure size 720x432 with 1 Axes>"
      ]
     },
     "metadata": {
      "needs_background": "light"
     },
     "output_type": "display_data"
    }
   ],
   "source": [
    "# thalach - maximum heart rate achieved\n",
    "plt.figure(figsize=(10,6));\n",
    "\n",
    "# Scatter with postivie examples\n",
    "plt.scatter(df.age[df.target==1],\n",
    "           df.thalach[df.target==1],\n",
    "           c=\"salmon\")\n",
    "\n",
    "# Scatter with negative examples\n",
    "plt.scatter(df.age[df.target==0],\n",
    "           df.thalach[df.target==0],\n",
    "           c=\"lightblue\")\n",
    "\n",
    "# Add some helpful info\n",
    "plt.title(\"Heart disease in function of Age and Max Heart Rate\")\n",
    "plt.xlabel(\"Age\")\n",
    "plt.ylabel(\"Max Heart Rate\")\n",
    "plt.legend([\"Disease\",\"No Disease\"]);"
   ]
  },
  {
   "cell_type": "code",
   "execution_count": 14,
   "id": "c04825be",
   "metadata": {
    "execution": {
     "iopub.execute_input": "2022-02-24T11:00:51.427269Z",
     "iopub.status.busy": "2022-02-24T11:00:51.426567Z",
     "iopub.status.idle": "2022-02-24T11:00:51.635229Z",
     "shell.execute_reply": "2022-02-24T11:00:51.634597Z",
     "shell.execute_reply.started": "2022-02-24T10:57:56.844691Z"
    },
    "papermill": {
     "duration": 0.283432,
     "end_time": "2022-02-24T11:00:51.635383",
     "exception": false,
     "start_time": "2022-02-24T11:00:51.351951",
     "status": "completed"
    },
    "tags": []
   },
   "outputs": [
    {
     "data": {
      "image/png": "[encoded data removed]",
      "text/plain": [
       "<Figure size 432x288 with 1 Axes>"
      ]
     },
     "metadata": {
      "needs_background": "light"
     },
     "output_type": "display_data"
    }
   ],
   "source": [
    "# Check the distribution of the age column with a histogram\n",
    "plt.hist(df[\"age\"]);"
   ]
  },
  {
   "cell_type": "markdown",
   "id": "89a9a135",
   "metadata": {
    "papermill": {
     "duration": 0.070496,
     "end_time": "2022-02-24T11:00:51.775916",
     "exception": false,
     "start_time": "2022-02-24T11:00:51.705420",
     "status": "completed"
    },
    "tags": []
   },
   "source": [
    "### Heart Disease Frequency per Chest Pain Type\n",
    "cp - chest pain type\n",
    "* 0: Typical angina: chest pain related decrease blood supply to the heart\n",
    "* 1: Atypical angina: chest pain not related to heart\n",
    "* 2: Non-anginal pain: typically esophageal spasms (non heart related)\n",
    "* 3: Asymptomatic: chest pain not showing signs of disease"
   ]
  },
  {
   "cell_type": "code",
   "execution_count": 15,
   "id": "8c2cd020",
   "metadata": {
    "execution": {
     "iopub.execute_input": "2022-02-24T11:00:51.918801Z",
     "iopub.status.busy": "2022-02-24T11:00:51.918138Z",
     "iopub.status.idle": "2022-02-24T11:00:51.935852Z",
     "shell.execute_reply": "2022-02-24T11:00:51.936347Z",
     "shell.execute_reply.started": "2022-02-24T10:57:57.031932Z"
    },
    "papermill": {
     "duration": 0.090767,
     "end_time": "2022-02-24T11:00:51.936559",
     "exception": false,
     "start_time": "2022-02-24T11:00:51.845792",
     "status": "completed"
    },
    "tags": []
   },
   "outputs": [
    {
     "data": {
      "text/html": [
       "<div>\n",
       "<style scoped>\n",
       "    .dataframe tbody tr th:only-of-type {\n",
       "        vertical-align: middle;\n",
       "    }\n",
       "\n",
       "    .dataframe tbody tr th {\n",
       "        vertical-align: top;\n",
       "    }\n",
       "\n",
       "    .dataframe thead th {\n",
       "        text-align: right;\n",
       "    }\n",
       "</style>\n",
       "<table border=\"1\" class=\"dataframe\">\n",
       "  <thead>\n",
       "    <tr style=\"text-align: right;\">\n",
       "      <th>target</th>\n",
       "      <th>0</th>\n",
       "      <th>1</th>\n",
       "    </tr>\n",
       "    <tr>\n",
       "      <th>cp</th>\n",
       "      <th></th>\n",
       "      <th></th>\n",
       "    </tr>\n",
       "  </thead>\n",
       "  <tbody>\n",
       "    <tr>\n",
       "      <th>0</th>\n",
       "      <td>104</td>\n",
       "      <td>39</td>\n",
       "    </tr>\n",
       "    <tr>\n",
       "      <th>1</th>\n",
       "      <td>9</td>\n",
       "      <td>41</td>\n",
       "    </tr>\n",
       "    <tr>\n",
       "      <th>2</th>\n",
       "      <td>18</td>\n",
       "      <td>69</td>\n",
       "    </tr>\n",
       "    <tr>\n",
       "      <th>3</th>\n",
       "      <td>7</td>\n",
       "      <td>16</td>\n",
       "    </tr>\n",
       "  </tbody>\n",
       "</table>\n",
       "</div>"
      ],
      "text/plain": [
       "target    0   1\n",
       "cp             \n",
       "0       104  39\n",
       "1         9  41\n",
       "2        18  69\n",
       "3         7  16"
      ]
     },
     "execution_count": 15,
     "metadata": {},
     "output_type": "execute_result"
    }
   ],
   "source": [
    "pd.crosstab(df.cp,df.target)"
   ]
  },
  {
   "cell_type": "code",
   "execution_count": 16,
   "id": "578cd5f2",
   "metadata": {
    "execution": {
     "iopub.execute_input": "2022-02-24T11:00:52.091678Z",
     "iopub.status.busy": "2022-02-24T11:00:52.091005Z",
     "iopub.status.idle": "2022-02-24T11:00:52.342245Z",
     "shell.execute_reply": "2022-02-24T11:00:52.342829Z",
     "shell.execute_reply.started": "2022-02-24T10:57:57.052225Z"
    },
    "papermill": {
     "duration": 0.333068,
     "end_time": "2022-02-24T11:00:52.343036",
     "exception": false,
     "start_time": "2022-02-24T11:00:52.009968",
     "status": "completed"
    },
    "tags": []
   },
   "outputs": [
    {
     "data": {
      "image/png": "[encoded data removed]",
      "text/plain": [
       "<Figure size 720x432 with 1 Axes>"
      ]
     },
     "metadata": {
      "needs_background": "light"
     },
     "output_type": "display_data"
    }
   ],
   "source": [
    "# Make the crosstab more visual\n",
    "pd.crosstab(df.cp,df.target).plot(kind=\"bar\",\n",
    "                                 color=[\"salmon\",\"lightblue\"],\n",
    "                                 figsize=(10,6))\n",
    "\n",
    "plt.xlabel(\"Type of chest pain\");\n",
    "plt.ylabel(\"Amount\");\n",
    "plt.xticks(rotation=0);\n",
    "plt.legend([\"No Disease\",\"Disease\"]);"
   ]
  },
  {
   "cell_type": "code",
   "execution_count": 17,
   "id": "ef93ed8c",
   "metadata": {
    "execution": {
     "iopub.execute_input": "2022-02-24T11:00:52.489371Z",
     "iopub.status.busy": "2022-02-24T11:00:52.488584Z",
     "iopub.status.idle": "2022-02-24T11:00:52.502786Z",
     "shell.execute_reply": "2022-02-24T11:00:52.503407Z",
     "shell.execute_reply.started": "2022-02-24T10:57:57.265660Z"
    },
    "papermill": {
     "duration": 0.089233,
     "end_time": "2022-02-24T11:00:52.503627",
     "exception": false,
     "start_time": "2022-02-24T11:00:52.414394",
     "status": "completed"
    },
    "tags": []
   },
   "outputs": [
    {
     "data": {
      "text/html": [
       "<div>\n",
       "<style scoped>\n",
       "    .dataframe tbody tr th:only-of-type {\n",
       "        vertical-align: middle;\n",
       "    }\n",
       "\n",
       "    .dataframe tbody tr th {\n",
       "        vertical-align: top;\n",
       "    }\n",
       "\n",
       "    .dataframe thead th {\n",
       "        text-align: right;\n",
       "    }\n",
       "</style>\n",
       "<table border=\"1\" class=\"dataframe\">\n",
       "  <thead>\n",
       "    <tr style=\"text-align: right;\">\n",
       "      <th></th>\n",
       "      <th>age</th>\n",
       "      <th>sex</th>\n",
       "      <th>cp</th>\n",
       "      <th>trestbps</th>\n",
       "      <th>chol</th>\n",
       "      <th>fbs</th>\n",
       "      <th>restecg</th>\n",
       "      <th>thalach</th>\n",
       "      <th>exang</th>\n",
       "      <th>oldpeak</th>\n",
       "      <th>slope</th>\n",
       "      <th>ca</th>\n",
       "      <th>thal</th>\n",
       "      <th>target</th>\n",
       "    </tr>\n",
       "  </thead>\n",
       "  <tbody>\n",
       "    <tr>\n",
       "      <th>0</th>\n",
       "      <td>63</td>\n",
       "      <td>1</td>\n",
       "      <td>3</td>\n",
       "      <td>145</td>\n",
       "      <td>233</td>\n",
       "      <td>1</td>\n",
       "      <td>0</td>\n",
       "      <td>150</td>\n",
       "      <td>0</td>\n",
       "      <td>2.3</td>\n",
       "      <td>0</td>\n",
       "      <td>0</td>\n",
       "      <td>1</td>\n",
       "      <td>1</td>\n",
       "    </tr>\n",
       "    <tr>\n",
       "      <th>1</th>\n",
       "      <td>37</td>\n",
       "      <td>1</td>\n",
       "      <td>2</td>\n",
       "      <td>130</td>\n",
       "      <td>250</td>\n",
       "      <td>0</td>\n",
       "      <td>1</td>\n",
       "      <td>187</td>\n",
       "      <td>0</td>\n",
       "      <td>3.5</td>\n",
       "      <td>0</td>\n",
       "      <td>0</td>\n",
       "      <td>2</td>\n",
       "      <td>1</td>\n",
       "    </tr>\n",
       "    <tr>\n",
       "      <th>2</th>\n",
       "      <td>41</td>\n",
       "      <td>0</td>\n",
       "      <td>1</td>\n",
       "      <td>130</td>\n",
       "      <td>204</td>\n",
       "      <td>0</td>\n",
       "      <td>0</td>\n",
       "      <td>172</td>\n",
       "      <td>0</td>\n",
       "      <td>1.4</td>\n",
       "      <td>2</td>\n",
       "      <td>0</td>\n",
       "      <td>2</td>\n",
       "      <td>1</td>\n",
       "    </tr>\n",
       "    <tr>\n",
       "      <th>3</th>\n",
       "      <td>56</td>\n",
       "      <td>1</td>\n",
       "      <td>1</td>\n",
       "      <td>120</td>\n",
       "      <td>236</td>\n",
       "      <td>0</td>\n",
       "      <td>1</td>\n",
       "      <td>178</td>\n",
       "      <td>0</td>\n",
       "      <td>0.8</td>\n",
       "      <td>2</td>\n",
       "      <td>0</td>\n",
       "      <td>2</td>\n",
       "      <td>1</td>\n",
       "    </tr>\n",
       "    <tr>\n",
       "      <th>4</th>\n",
       "      <td>57</td>\n",
       "      <td>0</td>\n",
       "      <td>0</td>\n",
       "      <td>120</td>\n",
       "      <td>354</td>\n",
       "      <td>0</td>\n",
       "      <td>1</td>\n",
       "      <td>163</td>\n",
       "      <td>1</td>\n",
       "      <td>0.6</td>\n",
       "      <td>2</td>\n",
       "      <td>0</td>\n",
       "      <td>2</td>\n",
       "      <td>1</td>\n",
       "    </tr>\n",
       "  </tbody>\n",
       "</table>\n",
       "</div>"
      ],
      "text/plain": [
       "   age  sex  cp  trestbps  chol  fbs  restecg  thalach  exang  oldpeak  slope  \\\n",
       "0   63    1   3       145   233    1        0      150      0      2.3      0   \n",
       "1   37    1   2       130   250    0        1      187      0      3.5      0   \n",
       "2   41    0   1       130   204    0        0      172      0      1.4      2   \n",
       "3   56    1   1       120   236    0        1      178      0      0.8      2   \n",
       "4   57    0   0       120   354    0        1      163      1      0.6      2   \n",
       "\n",
       "   ca  thal  target  \n",
       "0   0     1       1  \n",
       "1   0     2       1  \n",
       "2   0     2       1  \n",
       "3   0     2       1  \n",
       "4   0     2       1  "
      ]
     },
     "execution_count": 17,
     "metadata": {},
     "output_type": "execute_result"
    }
   ],
   "source": [
    "df.head()"
   ]
  },
  {
   "cell_type": "code",
   "execution_count": 18,
   "id": "d21ea1e9",
   "metadata": {
    "execution": {
     "iopub.execute_input": "2022-02-24T11:00:52.660629Z",
     "iopub.status.busy": "2022-02-24T11:00:52.659975Z",
     "iopub.status.idle": "2022-02-24T11:00:52.684379Z",
     "shell.execute_reply": "2022-02-24T11:00:52.684903Z",
     "shell.execute_reply.started": "2022-02-24T10:57:57.282096Z"
    },
    "papermill": {
     "duration": 0.107886,
     "end_time": "2022-02-24T11:00:52.685115",
     "exception": false,
     "start_time": "2022-02-24T11:00:52.577229",
     "status": "completed"
    },
    "tags": []
   },
   "outputs": [
    {
     "data": {
      "text/html": [
       "<div>\n",
       "<style scoped>\n",
       "    .dataframe tbody tr th:only-of-type {\n",
       "        vertical-align: middle;\n",
       "    }\n",
       "\n",
       "    .dataframe tbody tr th {\n",
       "        vertical-align: top;\n",
       "    }\n",
       "\n",
       "    .dataframe thead th {\n",
       "        text-align: right;\n",
       "    }\n",
       "</style>\n",
       "<table border=\"1\" class=\"dataframe\">\n",
       "  <thead>\n",
       "    <tr style=\"text-align: right;\">\n",
       "      <th></th>\n",
       "      <th>age</th>\n",
       "      <th>sex</th>\n",
       "      <th>cp</th>\n",
       "      <th>trestbps</th>\n",
       "      <th>chol</th>\n",
       "      <th>fbs</th>\n",
       "      <th>restecg</th>\n",
       "      <th>thalach</th>\n",
       "      <th>exang</th>\n",
       "      <th>oldpeak</th>\n",
       "      <th>slope</th>\n",
       "      <th>ca</th>\n",
       "      <th>thal</th>\n",
       "      <th>target</th>\n",
       "    </tr>\n",
       "  </thead>\n",
       "  <tbody>\n",
       "    <tr>\n",
       "      <th>age</th>\n",
       "      <td>1.000000</td>\n",
       "      <td>-0.098447</td>\n",
       "      <td>-0.068653</td>\n",
       "      <td>0.279351</td>\n",
       "      <td>0.213678</td>\n",
       "      <td>0.121308</td>\n",
       "      <td>-0.116211</td>\n",
       "      <td>-0.398522</td>\n",
       "      <td>0.096801</td>\n",
       "      <td>0.210013</td>\n",
       "      <td>-0.168814</td>\n",
       "      <td>0.276326</td>\n",
       "      <td>0.068001</td>\n",
       "      <td>-0.225439</td>\n",
       "    </tr>\n",
       "    <tr>\n",
       "      <th>sex</th>\n",
       "      <td>-0.098447</td>\n",
       "      <td>1.000000</td>\n",
       "      <td>-0.049353</td>\n",
       "      <td>-0.056769</td>\n",
       "      <td>-0.197912</td>\n",
       "      <td>0.045032</td>\n",
       "      <td>-0.058196</td>\n",
       "      <td>-0.044020</td>\n",
       "      <td>0.141664</td>\n",
       "      <td>0.096093</td>\n",
       "      <td>-0.030711</td>\n",
       "      <td>0.118261</td>\n",
       "      <td>0.210041</td>\n",
       "      <td>-0.280937</td>\n",
       "    </tr>\n",
       "    <tr>\n",
       "      <th>cp</th>\n",
       "      <td>-0.068653</td>\n",
       "      <td>-0.049353</td>\n",
       "      <td>1.000000</td>\n",
       "      <td>0.047608</td>\n",
       "      <td>-0.076904</td>\n",
       "      <td>0.094444</td>\n",
       "      <td>0.044421</td>\n",
       "      <td>0.295762</td>\n",
       "      <td>-0.394280</td>\n",
       "      <td>-0.149230</td>\n",
       "      <td>0.119717</td>\n",
       "      <td>-0.181053</td>\n",
       "      <td>-0.161736</td>\n",
       "      <td>0.433798</td>\n",
       "    </tr>\n",
       "    <tr>\n",
       "      <th>trestbps</th>\n",
       "      <td>0.279351</td>\n",
       "      <td>-0.056769</td>\n",
       "      <td>0.047608</td>\n",
       "      <td>1.000000</td>\n",
       "      <td>0.123174</td>\n",
       "      <td>0.177531</td>\n",
       "      <td>-0.114103</td>\n",
       "      <td>-0.046698</td>\n",
       "      <td>0.067616</td>\n",
       "      <td>0.193216</td>\n",
       "      <td>-0.121475</td>\n",
       "      <td>0.101389</td>\n",
       "      <td>0.062210</td>\n",
       "      <td>-0.144931</td>\n",
       "    </tr>\n",
       "    <tr>\n",
       "      <th>chol</th>\n",
       "      <td>0.213678</td>\n",
       "      <td>-0.197912</td>\n",
       "      <td>-0.076904</td>\n",
       "      <td>0.123174</td>\n",
       "      <td>1.000000</td>\n",
       "      <td>0.013294</td>\n",
       "      <td>-0.151040</td>\n",
       "      <td>-0.009940</td>\n",
       "      <td>0.067023</td>\n",
       "      <td>0.053952</td>\n",
       "      <td>-0.004038</td>\n",
       "      <td>0.070511</td>\n",
       "      <td>0.098803</td>\n",
       "      <td>-0.085239</td>\n",
       "    </tr>\n",
       "    <tr>\n",
       "      <th>fbs</th>\n",
       "      <td>0.121308</td>\n",
       "      <td>0.045032</td>\n",
       "      <td>0.094444</td>\n",
       "      <td>0.177531</td>\n",
       "      <td>0.013294</td>\n",
       "      <td>1.000000</td>\n",
       "      <td>-0.084189</td>\n",
       "      <td>-0.008567</td>\n",
       "      <td>0.025665</td>\n",
       "      <td>0.005747</td>\n",
       "      <td>-0.059894</td>\n",
       "      <td>0.137979</td>\n",
       "      <td>-0.032019</td>\n",
       "      <td>-0.028046</td>\n",
       "    </tr>\n",
       "    <tr>\n",
       "      <th>restecg</th>\n",
       "      <td>-0.116211</td>\n",
       "      <td>-0.058196</td>\n",
       "      <td>0.044421</td>\n",
       "      <td>-0.114103</td>\n",
       "      <td>-0.151040</td>\n",
       "      <td>-0.084189</td>\n",
       "      <td>1.000000</td>\n",
       "      <td>0.044123</td>\n",
       "      <td>-0.070733</td>\n",
       "      <td>-0.058770</td>\n",
       "      <td>0.093045</td>\n",
       "      <td>-0.072042</td>\n",
       "      <td>-0.011981</td>\n",
       "      <td>0.137230</td>\n",
       "    </tr>\n",
       "    <tr>\n",
       "      <th>thalach</th>\n",
       "      <td>-0.398522</td>\n",
       "      <td>-0.044020</td>\n",
       "      <td>0.295762</td>\n",
       "      <td>-0.046698</td>\n",
       "      <td>-0.009940</td>\n",
       "      <td>-0.008567</td>\n",
       "      <td>0.044123</td>\n",
       "      <td>1.000000</td>\n",
       "      <td>-0.378812</td>\n",
       "      <td>-0.344187</td>\n",
       "      <td>0.386784</td>\n",
       "      <td>-0.213177</td>\n",
       "      <td>-0.096439</td>\n",
       "      <td>0.421741</td>\n",
       "    </tr>\n",
       "    <tr>\n",
       "      <th>exang</th>\n",
       "      <td>0.096801</td>\n",
       "      <td>0.141664</td>\n",
       "      <td>-0.394280</td>\n",
       "      <td>0.067616</td>\n",
       "      <td>0.067023</td>\n",
       "      <td>0.025665</td>\n",
       "      <td>-0.070733</td>\n",
       "      <td>-0.378812</td>\n",
       "      <td>1.000000</td>\n",
       "      <td>0.288223</td>\n",
       "      <td>-0.257748</td>\n",
       "      <td>0.115739</td>\n",
       "      <td>0.206754</td>\n",
       "      <td>-0.436757</td>\n",
       "    </tr>\n",
       "    <tr>\n",
       "      <th>oldpeak</th>\n",
       "      <td>0.210013</td>\n",
       "      <td>0.096093</td>\n",
       "      <td>-0.149230</td>\n",
       "      <td>0.193216</td>\n",
       "      <td>0.053952</td>\n",
       "      <td>0.005747</td>\n",
       "      <td>-0.058770</td>\n",
       "      <td>-0.344187</td>\n",
       "      <td>0.288223</td>\n",
       "      <td>1.000000</td>\n",
       "      <td>-0.577537</td>\n",
       "      <td>0.222682</td>\n",
       "      <td>0.210244</td>\n",
       "      <td>-0.430696</td>\n",
       "    </tr>\n",
       "    <tr>\n",
       "      <th>slope</th>\n",
       "      <td>-0.168814</td>\n",
       "      <td>-0.030711</td>\n",
       "      <td>0.119717</td>\n",
       "      <td>-0.121475</td>\n",
       "      <td>-0.004038</td>\n",
       "      <td>-0.059894</td>\n",
       "      <td>0.093045</td>\n",
       "      <td>0.386784</td>\n",
       "      <td>-0.257748</td>\n",
       "      <td>-0.577537</td>\n",
       "      <td>1.000000</td>\n",
       "      <td>-0.080155</td>\n",
       "      <td>-0.104764</td>\n",
       "      <td>0.345877</td>\n",
       "    </tr>\n",
       "    <tr>\n",
       "      <th>ca</th>\n",
       "      <td>0.276326</td>\n",
       "      <td>0.118261</td>\n",
       "      <td>-0.181053</td>\n",
       "      <td>0.101389</td>\n",
       "      <td>0.070511</td>\n",
       "      <td>0.137979</td>\n",
       "      <td>-0.072042</td>\n",
       "      <td>-0.213177</td>\n",
       "      <td>0.115739</td>\n",
       "      <td>0.222682</td>\n",
       "      <td>-0.080155</td>\n",
       "      <td>1.000000</td>\n",
       "      <td>0.151832</td>\n",
       "      <td>-0.391724</td>\n",
       "    </tr>\n",
       "    <tr>\n",
       "      <th>thal</th>\n",
       "      <td>0.068001</td>\n",
       "      <td>0.210041</td>\n",
       "      <td>-0.161736</td>\n",
       "      <td>0.062210</td>\n",
       "      <td>0.098803</td>\n",
       "      <td>-0.032019</td>\n",
       "      <td>-0.011981</td>\n",
       "      <td>-0.096439</td>\n",
       "      <td>0.206754</td>\n",
       "      <td>0.210244</td>\n",
       "      <td>-0.104764</td>\n",
       "      <td>0.151832</td>\n",
       "      <td>1.000000</td>\n",
       "      <td>-0.344029</td>\n",
       "    </tr>\n",
       "    <tr>\n",
       "      <th>target</th>\n",
       "      <td>-0.225439</td>\n",
       "      <td>-0.280937</td>\n",
       "      <td>0.433798</td>\n",
       "      <td>-0.144931</td>\n",
       "      <td>-0.085239</td>\n",
       "      <td>-0.028046</td>\n",
       "      <td>0.137230</td>\n",
       "      <td>0.421741</td>\n",
       "      <td>-0.436757</td>\n",
       "      <td>-0.430696</td>\n",
       "      <td>0.345877</td>\n",
       "      <td>-0.391724</td>\n",
       "      <td>-0.344029</td>\n",
       "      <td>1.000000</td>\n",
       "    </tr>\n",
       "  </tbody>\n",
       "</table>\n",
       "</div>"
      ],
      "text/plain": [
       "               age       sex        cp  trestbps      chol       fbs  \\\n",
       "age       1.000000 -0.098447 -0.068653  0.279351  0.213678  0.121308   \n",
       "sex      -0.098447  1.000000 -0.049353 -0.056769 -0.197912  0.045032   \n",
       "cp       -0.068653 -0.049353  1.000000  0.047608 -0.076904  0.094444   \n",
       "trestbps  0.279351 -0.056769  0.047608  1.000000  0.123174  0.177531   \n",
       "chol      0.213678 -0.197912 -0.076904  0.123174  1.000000  0.013294   \n",
       "fbs       0.121308  0.045032  0.094444  0.177531  0.013294  1.000000   \n",
       "restecg  -0.116211 -0.058196  0.044421 -0.114103 -0.151040 -0.084189   \n",
       "thalach  -0.398522 -0.044020  0.295762 -0.046698 -0.009940 -0.008567   \n",
       "exang     0.096801  0.141664 -0.394280  0.067616  0.067023  0.025665   \n",
       "oldpeak   0.210013  0.096093 -0.149230  0.193216  0.053952  0.005747   \n",
       "slope    -0.168814 -0.030711  0.119717 -0.121475 -0.004038 -0.059894   \n",
       "ca        0.276326  0.118261 -0.181053  0.101389  0.070511  0.137979   \n",
       "thal      0.068001  0.210041 -0.161736  0.062210  0.098803 -0.032019   \n",
       "target   -0.225439 -0.280937  0.433798 -0.144931 -0.085239 -0.028046   \n",
       "\n",
       "           restecg   thalach     exang   oldpeak     slope        ca  \\\n",
       "age      -0.116211 -0.398522  0.096801  0.210013 -0.168814  0.276326   \n",
       "sex      -0.058196 -0.044020  0.141664  0.096093 -0.030711  0.118261   \n",
       "cp        0.044421  0.295762 -0.394280 -0.149230  0.119717 -0.181053   \n",
       "trestbps -0.114103 -0.046698  0.067616  0.193216 -0.121475  0.101389   \n",
       "chol     -0.151040 -0.009940  0.067023  0.053952 -0.004038  0.070511   \n",
       "fbs      -0.084189 -0.008567  0.025665  0.005747 -0.059894  0.137979   \n",
       "restecg   1.000000  0.044123 -0.070733 -0.058770  0.093045 -0.072042   \n",
       "thalach   0.044123  1.000000 -0.378812 -0.344187  0.386784 -0.213177   \n",
       "exang    -0.070733 -0.378812  1.000000  0.288223 -0.257748  0.115739   \n",
       "oldpeak  -0.058770 -0.344187  0.288223  1.000000 -0.577537  0.222682   \n",
       "slope     0.093045  0.386784 -0.257748 -0.577537  1.000000 -0.080155   \n",
       "ca       -0.072042 -0.213177  0.115739  0.222682 -0.080155  1.000000   \n",
       "thal     -0.011981 -0.096439  0.206754  0.210244 -0.104764  0.151832   \n",
       "target    0.137230  0.421741 -0.436757 -0.430696  0.345877 -0.391724   \n",
       "\n",
       "              thal    target  \n",
       "age       0.068001 -0.225439  \n",
       "sex       0.210041 -0.280937  \n",
       "cp       -0.161736  0.433798  \n",
       "trestbps  0.062210 -0.144931  \n",
       "chol      0.098803 -0.085239  \n",
       "fbs      -0.032019 -0.028046  \n",
       "restecg  -0.011981  0.137230  \n",
       "thalach  -0.096439  0.421741  \n",
       "exang     0.206754 -0.436757  \n",
       "oldpeak   0.210244 -0.430696  \n",
       "slope    -0.104764  0.345877  \n",
       "ca        0.151832 -0.391724  \n",
       "thal      1.000000 -0.344029  \n",
       "target   -0.344029  1.000000  "
      ]
     },
     "execution_count": 18,
     "metadata": {},
     "output_type": "execute_result"
    }
   ],
   "source": [
    "# Make a correlation matrix\n",
    "df.corr()"
   ]
  },
  {
   "cell_type": "code",
   "execution_count": 19,
   "id": "9d45430a",
   "metadata": {
    "execution": {
     "iopub.execute_input": "2022-02-24T11:00:52.837848Z",
     "iopub.status.busy": "2022-02-24T11:00:52.837098Z",
     "iopub.status.idle": "2022-02-24T11:00:54.273766Z",
     "shell.execute_reply": "2022-02-24T11:00:54.274273Z",
     "shell.execute_reply.started": "2022-02-24T10:57:57.307454Z"
    },
    "papermill": {
     "duration": 1.515754,
     "end_time": "2022-02-24T11:00:54.274468",
     "exception": false,
     "start_time": "2022-02-24T11:00:52.758714",
     "status": "completed"
    },
    "tags": []
   },
   "outputs": [
    {
     "data": {
      "image/png": "[encoded data removed]",
      "text/plain": [
       "<Figure size 1080x720 with 2 Axes>"
      ]
     },
     "metadata": {
      "needs_background": "light"
     },
     "output_type": "display_data"
    }
   ],
   "source": [
    "corr_matrix = df.corr()\n",
    "fig,ax = plt.subplots(figsize=(15,10))\n",
    "ax = sns.heatmap(corr_matrix,annot=True,linewidths=0.5,cmap=\"YlGnBu\",fmt=\".2f\");"
   ]
  },
  {
   "cell_type": "markdown",
   "id": "b3baed1e",
   "metadata": {
    "papermill": {
     "duration": 0.075706,
     "end_time": "2022-02-24T11:00:54.426168",
     "exception": false,
     "start_time": "2022-02-24T11:00:54.350462",
     "status": "completed"
    },
    "tags": []
   },
   "source": [
    "### Modelling"
   ]
  },
  {
   "cell_type": "code",
   "execution_count": 20,
   "id": "81a9f350",
   "metadata": {
    "execution": {
     "iopub.execute_input": "2022-02-24T11:00:54.586551Z",
     "iopub.status.busy": "2022-02-24T11:00:54.585483Z",
     "iopub.status.idle": "2022-02-24T11:00:54.601020Z",
     "shell.execute_reply": "2022-02-24T11:00:54.601610Z",
     "shell.execute_reply.started": "2022-02-24T10:57:58.677424Z"
    },
    "papermill": {
     "duration": 0.097582,
     "end_time": "2022-02-24T11:00:54.601802",
     "exception": false,
     "start_time": "2022-02-24T11:00:54.504220",
     "status": "completed"
    },
    "tags": []
   },
   "outputs": [
    {
     "data": {
      "text/html": [
       "<div>\n",
       "<style scoped>\n",
       "    .dataframe tbody tr th:only-of-type {\n",
       "        vertical-align: middle;\n",
       "    }\n",
       "\n",
       "    .dataframe tbody tr th {\n",
       "        vertical-align: top;\n",
       "    }\n",
       "\n",
       "    .dataframe thead th {\n",
       "        text-align: right;\n",
       "    }\n",
       "</style>\n",
       "<table border=\"1\" class=\"dataframe\">\n",
       "  <thead>\n",
       "    <tr style=\"text-align: right;\">\n",
       "      <th></th>\n",
       "      <th>age</th>\n",
       "      <th>sex</th>\n",
       "      <th>cp</th>\n",
       "      <th>trestbps</th>\n",
       "      <th>chol</th>\n",
       "      <th>fbs</th>\n",
       "      <th>restecg</th>\n",
       "      <th>thalach</th>\n",
       "      <th>exang</th>\n",
       "      <th>oldpeak</th>\n",
       "      <th>slope</th>\n",
       "      <th>ca</th>\n",
       "      <th>thal</th>\n",
       "      <th>target</th>\n",
       "    </tr>\n",
       "  </thead>\n",
       "  <tbody>\n",
       "    <tr>\n",
       "      <th>0</th>\n",
       "      <td>63</td>\n",
       "      <td>1</td>\n",
       "      <td>3</td>\n",
       "      <td>145</td>\n",
       "      <td>233</td>\n",
       "      <td>1</td>\n",
       "      <td>0</td>\n",
       "      <td>150</td>\n",
       "      <td>0</td>\n",
       "      <td>2.3</td>\n",
       "      <td>0</td>\n",
       "      <td>0</td>\n",
       "      <td>1</td>\n",
       "      <td>1</td>\n",
       "    </tr>\n",
       "    <tr>\n",
       "      <th>1</th>\n",
       "      <td>37</td>\n",
       "      <td>1</td>\n",
       "      <td>2</td>\n",
       "      <td>130</td>\n",
       "      <td>250</td>\n",
       "      <td>0</td>\n",
       "      <td>1</td>\n",
       "      <td>187</td>\n",
       "      <td>0</td>\n",
       "      <td>3.5</td>\n",
       "      <td>0</td>\n",
       "      <td>0</td>\n",
       "      <td>2</td>\n",
       "      <td>1</td>\n",
       "    </tr>\n",
       "    <tr>\n",
       "      <th>2</th>\n",
       "      <td>41</td>\n",
       "      <td>0</td>\n",
       "      <td>1</td>\n",
       "      <td>130</td>\n",
       "      <td>204</td>\n",
       "      <td>0</td>\n",
       "      <td>0</td>\n",
       "      <td>172</td>\n",
       "      <td>0</td>\n",
       "      <td>1.4</td>\n",
       "      <td>2</td>\n",
       "      <td>0</td>\n",
       "      <td>2</td>\n",
       "      <td>1</td>\n",
       "    </tr>\n",
       "    <tr>\n",
       "      <th>3</th>\n",
       "      <td>56</td>\n",
       "      <td>1</td>\n",
       "      <td>1</td>\n",
       "      <td>120</td>\n",
       "      <td>236</td>\n",
       "      <td>0</td>\n",
       "      <td>1</td>\n",
       "      <td>178</td>\n",
       "      <td>0</td>\n",
       "      <td>0.8</td>\n",
       "      <td>2</td>\n",
       "      <td>0</td>\n",
       "      <td>2</td>\n",
       "      <td>1</td>\n",
       "    </tr>\n",
       "    <tr>\n",
       "      <th>4</th>\n",
       "      <td>57</td>\n",
       "      <td>0</td>\n",
       "      <td>0</td>\n",
       "      <td>120</td>\n",
       "      <td>354</td>\n",
       "      <td>0</td>\n",
       "      <td>1</td>\n",
       "      <td>163</td>\n",
       "      <td>1</td>\n",
       "      <td>0.6</td>\n",
       "      <td>2</td>\n",
       "      <td>0</td>\n",
       "      <td>2</td>\n",
       "      <td>1</td>\n",
       "    </tr>\n",
       "  </tbody>\n",
       "</table>\n",
       "</div>"
      ],
      "text/plain": [
       "   age  sex  cp  trestbps  chol  fbs  restecg  thalach  exang  oldpeak  slope  \\\n",
       "0   63    1   3       145   233    1        0      150      0      2.3      0   \n",
       "1   37    1   2       130   250    0        1      187      0      3.5      0   \n",
       "2   41    0   1       130   204    0        0      172      0      1.4      2   \n",
       "3   56    1   1       120   236    0        1      178      0      0.8      2   \n",
       "4   57    0   0       120   354    0        1      163      1      0.6      2   \n",
       "\n",
       "   ca  thal  target  \n",
       "0   0     1       1  \n",
       "1   0     2       1  \n",
       "2   0     2       1  \n",
       "3   0     2       1  \n",
       "4   0     2       1  "
      ]
     },
     "execution_count": 20,
     "metadata": {},
     "output_type": "execute_result"
    }
   ],
   "source": [
    "df.head()"
   ]
  },
  {
   "cell_type": "code",
   "execution_count": 21,
   "id": "c3b8fcf7",
   "metadata": {
    "execution": {
     "iopub.execute_input": "2022-02-24T11:00:54.767777Z",
     "iopub.status.busy": "2022-02-24T11:00:54.767078Z",
     "iopub.status.idle": "2022-02-24T11:00:54.769574Z",
     "shell.execute_reply": "2022-02-24T11:00:54.770164Z",
     "shell.execute_reply.started": "2022-02-24T10:57:58.695311Z"
    },
    "papermill": {
     "duration": 0.088447,
     "end_time": "2022-02-24T11:00:54.770333",
     "exception": false,
     "start_time": "2022-02-24T11:00:54.681886",
     "status": "completed"
    },
    "tags": []
   },
   "outputs": [],
   "source": [
    "X = df.drop(\"target\",axis=1)\n",
    "Y = df[\"target\"]"
   ]
  },
  {
   "cell_type": "code",
   "execution_count": 22,
   "id": "c1c3cfbc",
   "metadata": {
    "execution": {
     "iopub.execute_input": "2022-02-24T11:00:54.928752Z",
     "iopub.status.busy": "2022-02-24T11:00:54.928089Z",
     "iopub.status.idle": "2022-02-24T11:00:54.935685Z",
     "shell.execute_reply": "2022-02-24T11:00:54.936251Z",
     "shell.execute_reply.started": "2022-02-24T10:57:58.704190Z"
    },
    "papermill": {
     "duration": 0.088103,
     "end_time": "2022-02-24T11:00:54.936461",
     "exception": false,
     "start_time": "2022-02-24T11:00:54.848358",
     "status": "completed"
    },
    "tags": []
   },
   "outputs": [],
   "source": [
    "# Split data into train and test sets\n",
    "np.random.seed(42)\n",
    "\n",
    "X_train,X_test,Y_train,Y_test = train_test_split(X,Y,test_size=0.2)"
   ]
  },
  {
   "cell_type": "code",
   "execution_count": 23,
   "id": "14d5e482",
   "metadata": {
    "execution": {
     "iopub.execute_input": "2022-02-24T11:00:55.095702Z",
     "iopub.status.busy": "2022-02-24T11:00:55.095027Z",
     "iopub.status.idle": "2022-02-24T11:00:55.101443Z",
     "shell.execute_reply": "2022-02-24T11:00:55.101959Z",
     "shell.execute_reply.started": "2022-02-24T10:57:58.714996Z"
    },
    "papermill": {
     "duration": 0.087048,
     "end_time": "2022-02-24T11:00:55.102167",
     "exception": false,
     "start_time": "2022-02-24T11:00:55.015119",
     "status": "completed"
    },
    "tags": []
   },
   "outputs": [],
   "source": [
    "#put models in dictionary\n",
    "models = {\"Logistic Regression\": LogisticRegression(solver='liblinear'),\n",
    "          \"KNN\": KNeighborsClassifier(),\n",
    "          \"Random Forest\": RandomForestClassifier()}\n",
    "\n",
    "def fit(models,X_train,Y_train,X_test,Y_test):\n",
    "    # Set random seed\n",
    "    np.random.seed(42)\n",
    "    # Make a dictionary to keep model scores\n",
    "    model_scores = {}\n",
    "    # Loop through models\n",
    "    for name,model in models.items():\n",
    "         # Fit the model to the data\n",
    "            model.fit(X_train,Y_train)\n",
    "            # Evaluate the model and append its score to model_scores\n",
    "            model_scores[name] = model.score(X_test,Y_test)\n",
    "    return model_scores        "
   ]
  },
  {
   "cell_type": "code",
   "execution_count": 24,
   "id": "d56e7971",
   "metadata": {
    "execution": {
     "iopub.execute_input": "2022-02-24T11:00:55.258676Z",
     "iopub.status.busy": "2022-02-24T11:00:55.258019Z",
     "iopub.status.idle": "2022-02-24T11:00:55.483387Z",
     "shell.execute_reply": "2022-02-24T11:00:55.482849Z",
     "shell.execute_reply.started": "2022-02-24T10:57:58.725406Z"
    },
    "papermill": {
     "duration": 0.30464,
     "end_time": "2022-02-24T11:00:55.483563",
     "exception": false,
     "start_time": "2022-02-24T11:00:55.178923",
     "status": "completed"
    },
    "tags": []
   },
   "outputs": [
    {
     "data": {
      "text/plain": [
       "{'Logistic Regression': 0.8688524590163934,\n",
       " 'KNN': 0.6885245901639344,\n",
       " 'Random Forest': 0.8360655737704918}"
      ]
     },
     "execution_count": 24,
     "metadata": {},
     "output_type": "execute_result"
    }
   ],
   "source": [
    "model_scores = fit(models=models,X_train=X_train,Y_train=Y_train,X_test=X_test,Y_test=Y_test)\n",
    "model_scores"
   ]
  },
  {
   "cell_type": "code",
   "execution_count": 25,
   "id": "8881ad75",
   "metadata": {
    "execution": {
     "iopub.execute_input": "2022-02-24T11:00:55.652071Z",
     "iopub.status.busy": "2022-02-24T11:00:55.650962Z",
     "iopub.status.idle": "2022-02-24T11:00:55.864604Z",
     "shell.execute_reply": "2022-02-24T11:00:55.863972Z",
     "shell.execute_reply.started": "2022-02-24T10:57:58.915631Z"
    },
    "papermill": {
     "duration": 0.304466,
     "end_time": "2022-02-24T11:00:55.864749",
     "exception": false,
     "start_time": "2022-02-24T11:00:55.560283",
     "status": "completed"
    },
    "tags": []
   },
   "outputs": [
    {
     "data": {
      "text/plain": [
       "<AxesSubplot:>"
      ]
     },
     "execution_count": 25,
     "metadata": {},
     "output_type": "execute_result"
    },
    {
     "data": {
      "image/png": "[encoded data removed]",
      "text/plain": [
       "<Figure size 432x288 with 1 Axes>"
      ]
     },
     "metadata": {
      "needs_background": "light"
     },
     "output_type": "display_data"
    }
   ],
   "source": [
    "model_compare = pd.DataFrame(model_scores,index=[\"accuracy\"])\n",
    "model_compare.T.plot.bar()"
   ]
  },
  {
   "cell_type": "markdown",
   "id": "f863cb66",
   "metadata": {
    "papermill": {
     "duration": 0.08056,
     "end_time": "2022-02-24T11:00:56.027424",
     "exception": false,
     "start_time": "2022-02-24T11:00:55.946864",
     "status": "completed"
    },
    "tags": []
   },
   "source": [
    "* Hyperparameter tuning\n",
    "* Feature importance\n",
    "* Confusion matrix\n",
    "* Cross-validation\n",
    "* Precision\n",
    "* Recall\n",
    "* F1 score\n",
    "* Classification report\n",
    "* ROC curve\n",
    "* Area under the curve (AUC)\n",
    "\n",
    "## Hyperparameter tuning (by hand)"
   ]
  },
  {
   "cell_type": "code",
   "execution_count": 26,
   "id": "ced19c06",
   "metadata": {
    "execution": {
     "iopub.execute_input": "2022-02-24T11:00:56.188479Z",
     "iopub.status.busy": "2022-02-24T11:00:56.187814Z",
     "iopub.status.idle": "2022-02-24T11:00:56.585182Z",
     "shell.execute_reply": "2022-02-24T11:00:56.584576Z",
     "shell.execute_reply.started": "2022-02-24T10:57:59.096290Z"
    },
    "papermill": {
     "duration": 0.47895,
     "end_time": "2022-02-24T11:00:56.585353",
     "exception": false,
     "start_time": "2022-02-24T11:00:56.106403",
     "status": "completed"
    },
    "tags": []
   },
   "outputs": [],
   "source": [
    "# Let's tune KNN\n",
    "train_scores = []\n",
    "test_scores = []\n",
    "\n",
    "# Create a list of differnt values for n_neighbors\n",
    "neighbors = range(1,21)\n",
    "\n",
    "# Setup KNN instance\n",
    "knn = KNeighborsClassifier()\n",
    "\n",
    "# Loop through different n_neighbors\n",
    "for i in neighbors: \n",
    "    knn.set_params(n_neighbors=i)\n",
    "    knn.fit(X_train,Y_train)\n",
    "    train_scores.append(knn.score(X_train,Y_train))\n",
    "    test_scores.append(knn.score(X_test,Y_test))"
   ]
  },
  {
   "cell_type": "code",
   "execution_count": 27,
   "id": "d920da07",
   "metadata": {
    "execution": {
     "iopub.execute_input": "2022-02-24T11:00:56.752473Z",
     "iopub.status.busy": "2022-02-24T11:00:56.751785Z",
     "iopub.status.idle": "2022-02-24T11:00:57.066832Z",
     "shell.execute_reply": "2022-02-24T11:00:57.066169Z",
     "shell.execute_reply.started": "2022-02-24T10:57:59.401345Z"
    },
    "papermill": {
     "duration": 0.402581,
     "end_time": "2022-02-24T11:00:57.067008",
     "exception": false,
     "start_time": "2022-02-24T11:00:56.664427",
     "status": "completed"
    },
    "tags": []
   },
   "outputs": [
    {
     "name": "stdout",
     "output_type": "stream",
     "text": [
      "Maximum KNN score on the test data: 75.41% \n"
     ]
    },
    {
     "data": {
      "image/png": "[encoded data removed]",
      "text/plain": [
       "<Figure size 720x432 with 1 Axes>"
      ]
     },
     "metadata": {
      "needs_background": "light"
     },
     "output_type": "display_data"
    }
   ],
   "source": [
    "figure = plt.figure(figsize=(10,6))\n",
    "plt.plot(neighbors,train_scores,label = \"Train Score\");\n",
    "plt.plot(neighbors,test_scores,label=\"Test Score\");\n",
    "plt.legend();\n",
    "plt.xlabel(\"Number of neighbors\");\n",
    "plt.ylabel(\"Model score\");\n",
    "plt.xticks(np.arange(1,21,1));\n",
    "\n",
    "print(f\"Maximum KNN score on the test data: {max(test_scores)*100:.2f}% \")"
   ]
  },
  {
   "cell_type": "markdown",
   "id": "0f3679e4",
   "metadata": {
    "papermill": {
     "duration": 0.081603,
     "end_time": "2022-02-24T11:00:57.228857",
     "exception": false,
     "start_time": "2022-02-24T11:00:57.147254",
     "status": "completed"
    },
    "tags": []
   },
   "source": [
    "### Hyperparameter tuning with RandomizedSearchCV"
   ]
  },
  {
   "cell_type": "code",
   "execution_count": 28,
   "id": "b2818868",
   "metadata": {
    "execution": {
     "iopub.execute_input": "2022-02-24T11:00:57.392577Z",
     "iopub.status.busy": "2022-02-24T11:00:57.391860Z",
     "iopub.status.idle": "2022-02-24T11:00:57.397448Z",
     "shell.execute_reply": "2022-02-24T11:00:57.398036Z",
     "shell.execute_reply.started": "2022-02-24T10:57:59.664402Z"
    },
    "papermill": {
     "duration": 0.089677,
     "end_time": "2022-02-24T11:00:57.398206",
     "exception": false,
     "start_time": "2022-02-24T11:00:57.308529",
     "status": "completed"
    },
    "tags": []
   },
   "outputs": [],
   "source": [
    "# Create a hyperparameter grid for LogisticRegression\n",
    "log_reg_grid = {\"C\":np.logspace(-4,4,20)}\n",
    "\n",
    "# Create a hyperparameter grid for RandomForestClassifier\n",
    "rf_grid = {\"n_estimators\":np.arange(10,1000,50),\n",
    "          \"max_depth\":[None,3,5,10],\n",
    "          \"min_samples_split\":np.arange(2,20,2),\n",
    "          \"min_samples_leaf\":np.arange(1,20,2)}"
   ]
  },
  {
   "cell_type": "code",
   "execution_count": 29,
   "id": "408130a7",
   "metadata": {
    "execution": {
     "iopub.execute_input": "2022-02-24T11:00:57.564734Z",
     "iopub.status.busy": "2022-02-24T11:00:57.564017Z",
     "iopub.status.idle": "2022-02-24T11:00:58.146029Z",
     "shell.execute_reply": "2022-02-24T11:00:58.145396Z",
     "shell.execute_reply.started": "2022-02-24T10:57:59.672217Z"
    },
    "papermill": {
     "duration": 0.664881,
     "end_time": "2022-02-24T11:00:58.146179",
     "exception": false,
     "start_time": "2022-02-24T11:00:57.481298",
     "status": "completed"
    },
    "tags": []
   },
   "outputs": [
    {
     "name": "stderr",
     "output_type": "stream",
     "text": [
      "/opt/conda/lib/python3.7/site-packages/sklearn/model_selection/_search.py:282: UserWarning: The total space of parameters 20 is smaller than n_iter=50. Running 20 iterations. For exhaustive searches, use GridSearchCV.\n",
      "  % (grid_size, self.n_iter, grid_size), UserWarning)\n"
     ]
    },
    {
     "data": {
      "text/plain": [
       "RandomizedSearchCV(cv=5, estimator=LogisticRegression(solver='liblinear'),\n",
       "                   n_iter=50,\n",
       "                   param_distributions={'C': array([1.00000000e-04, 2.63665090e-04, 6.95192796e-04, 1.83298071e-03,\n",
       "       4.83293024e-03, 1.27427499e-02, 3.35981829e-02, 8.85866790e-02,\n",
       "       2.33572147e-01, 6.15848211e-01, 1.62377674e+00, 4.28133240e+00,\n",
       "       1.12883789e+01, 2.97635144e+01, 7.84759970e+01, 2.06913808e+02,\n",
       "       5.45559478e+02, 1.43844989e+03, 3.79269019e+03, 1.00000000e+04])})"
      ]
     },
     "execution_count": 29,
     "metadata": {},
     "output_type": "execute_result"
    }
   ],
   "source": [
    "# Tune LogisticRegression\n",
    "\n",
    "np.random.seed(42)\n",
    "\n",
    "# Setup random hyperparameter search for LogisticRegression\n",
    "rs_log_reg = RandomizedSearchCV(LogisticRegression(solver=\"liblinear\"),\n",
    "                               param_distributions = log_reg_grid,\n",
    "                               cv=5,\n",
    "                               n_iter=50)\n",
    "\n",
    "rs_log_reg.fit(X_train,Y_train)"
   ]
  },
  {
   "cell_type": "code",
   "execution_count": 30,
   "id": "530f21ee",
   "metadata": {
    "execution": {
     "iopub.execute_input": "2022-02-24T11:00:58.317228Z",
     "iopub.status.busy": "2022-02-24T11:00:58.316529Z",
     "iopub.status.idle": "2022-02-24T11:00:58.323023Z",
     "shell.execute_reply": "2022-02-24T11:00:58.322281Z",
     "shell.execute_reply.started": "2022-02-24T10:58:00.119571Z"
    },
    "papermill": {
     "duration": 0.091689,
     "end_time": "2022-02-24T11:00:58.323173",
     "exception": false,
     "start_time": "2022-02-24T11:00:58.231484",
     "status": "completed"
    },
    "tags": []
   },
   "outputs": [
    {
     "data": {
      "text/plain": [
       "{'C': 0.23357214690901212}"
      ]
     },
     "execution_count": 30,
     "metadata": {},
     "output_type": "execute_result"
    }
   ],
   "source": [
    "rs_log_reg.best_params_"
   ]
  },
  {
   "cell_type": "code",
   "execution_count": 31,
   "id": "d7fccb9f",
   "metadata": {
    "execution": {
     "iopub.execute_input": "2022-02-24T11:00:58.493424Z",
     "iopub.status.busy": "2022-02-24T11:00:58.492493Z",
     "iopub.status.idle": "2022-02-24T11:00:58.500361Z",
     "shell.execute_reply": "2022-02-24T11:00:58.500876Z",
     "shell.execute_reply.started": "2022-02-24T10:58:00.129808Z"
    },
    "papermill": {
     "duration": 0.095341,
     "end_time": "2022-02-24T11:00:58.501046",
     "exception": false,
     "start_time": "2022-02-24T11:00:58.405705",
     "status": "completed"
    },
    "tags": []
   },
   "outputs": [
    {
     "data": {
      "text/plain": [
       "0.8852459016393442"
      ]
     },
     "execution_count": 31,
     "metadata": {},
     "output_type": "execute_result"
    }
   ],
   "source": [
    "rs_log_reg.score(X_test,Y_test)"
   ]
  },
  {
   "cell_type": "code",
   "execution_count": 32,
   "id": "c404d0fa",
   "metadata": {
    "execution": {
     "iopub.execute_input": "2022-02-24T11:00:58.672257Z",
     "iopub.status.busy": "2022-02-24T11:00:58.671259Z",
     "iopub.status.idle": "2022-02-24T11:02:30.508416Z",
     "shell.execute_reply": "2022-02-24T11:02:30.508977Z",
     "shell.execute_reply.started": "2022-02-24T10:58:00.143181Z"
    },
    "papermill": {
     "duration": 91.925159,
     "end_time": "2022-02-24T11:02:30.509181",
     "exception": false,
     "start_time": "2022-02-24T11:00:58.584022",
     "status": "completed"
    },
    "tags": []
   },
   "outputs": [
    {
     "data": {
      "text/plain": [
       "RandomizedSearchCV(cv=5, estimator=RandomForestClassifier(), n_iter=20,\n",
       "                   param_distributions={'max_depth': [None, 3, 5, 10],\n",
       "                                        'min_samples_leaf': array([ 1,  3,  5,  7,  9, 11, 13, 15, 17, 19]),\n",
       "                                        'min_samples_split': array([ 2,  4,  6,  8, 10, 12, 14, 16, 18]),\n",
       "                                        'n_estimators': array([ 10,  60, 110, 160, 210, 260, 310, 360, 410, 460, 510, 560, 610,\n",
       "       660, 710, 760, 810, 860, 910, 960])})"
      ]
     },
     "execution_count": 32,
     "metadata": {},
     "output_type": "execute_result"
    }
   ],
   "source": [
    "# Tune LogisticRegression\n",
    "np.random.seed(42)\n",
    "\n",
    "# Setup random hyperparameter search for RandomForestClassifier\n",
    "\n",
    "rs_rf = RandomizedSearchCV(RandomForestClassifier(),\n",
    "                        param_distributions=rf_grid,\n",
    "                        cv=5,\n",
    "                        n_iter=20)\n",
    "\n",
    "rs_rf.fit(X_train,Y_train)"
   ]
  },
  {
   "cell_type": "code",
   "execution_count": 33,
   "id": "52d23440",
   "metadata": {
    "execution": {
     "iopub.execute_input": "2022-02-24T11:02:30.679360Z",
     "iopub.status.busy": "2022-02-24T11:02:30.678622Z",
     "iopub.status.idle": "2022-02-24T11:02:30.685033Z",
     "shell.execute_reply": "2022-02-24T11:02:30.685500Z",
     "shell.execute_reply.started": "2022-02-24T10:59:20.102873Z"
    },
    "papermill": {
     "duration": 0.094009,
     "end_time": "2022-02-24T11:02:30.685736",
     "exception": false,
     "start_time": "2022-02-24T11:02:30.591727",
     "status": "completed"
    },
    "tags": []
   },
   "outputs": [
    {
     "data": {
      "text/plain": [
       "{'n_estimators': 210,\n",
       " 'min_samples_split': 4,\n",
       " 'min_samples_leaf': 19,\n",
       " 'max_depth': 3}"
      ]
     },
     "execution_count": 33,
     "metadata": {},
     "output_type": "execute_result"
    }
   ],
   "source": [
    "rs_rf.best_params_"
   ]
  },
  {
   "cell_type": "code",
   "execution_count": 34,
   "id": "937d3333",
   "metadata": {
    "execution": {
     "iopub.execute_input": "2022-02-24T11:02:30.890181Z",
     "iopub.status.busy": "2022-02-24T11:02:30.857640Z",
     "iopub.status.idle": "2022-02-24T11:02:30.897138Z",
     "shell.execute_reply": "2022-02-24T11:02:30.897684Z",
     "shell.execute_reply.started": "2022-02-24T10:59:20.109885Z"
    },
    "papermill": {
     "duration": 0.127529,
     "end_time": "2022-02-24T11:02:30.897920",
     "exception": false,
     "start_time": "2022-02-24T11:02:30.770391",
     "status": "completed"
    },
    "tags": []
   },
   "outputs": [
    {
     "data": {
      "text/plain": [
       "0.8688524590163934"
      ]
     },
     "execution_count": 34,
     "metadata": {},
     "output_type": "execute_result"
    }
   ],
   "source": [
    "rs_rf.score(X_test,Y_test)"
   ]
  },
  {
   "cell_type": "markdown",
   "id": "cf7edaf8",
   "metadata": {
    "papermill": {
     "duration": 0.082991,
     "end_time": "2022-02-24T11:02:31.065680",
     "exception": false,
     "start_time": "2022-02-24T11:02:30.982689",
     "status": "completed"
    },
    "tags": []
   },
   "source": [
    "## Hyperparamter Tuning with GridSearchCV\n",
    "Since our LogisticRegression model provides the best scores so far, we'll try and improve them again using GridSearchCV..."
   ]
  },
  {
   "cell_type": "code",
   "execution_count": 35,
   "id": "b6bcd8a6",
   "metadata": {
    "execution": {
     "iopub.execute_input": "2022-02-24T11:02:31.242035Z",
     "iopub.status.busy": "2022-02-24T11:02:31.241294Z",
     "iopub.status.idle": "2022-02-24T11:02:32.070630Z",
     "shell.execute_reply": "2022-02-24T11:02:32.069969Z",
     "shell.execute_reply.started": "2022-02-24T10:59:20.148832Z"
    },
    "papermill": {
     "duration": 0.920784,
     "end_time": "2022-02-24T11:02:32.070811",
     "exception": false,
     "start_time": "2022-02-24T11:02:31.150027",
     "status": "completed"
    },
    "tags": []
   },
   "outputs": [],
   "source": [
    "# Different hyperparameters for our LogisticRegression model\n",
    "log_reg_grid = {\"C\": np.logspace(-4, 4, 30)}\n",
    "\n",
    "# Setup grid hyperparameter search for LogisticRegression\n",
    "gs_log_reg = GridSearchCV(LogisticRegression(solver=\"liblinear\"),\n",
    "                          param_grid=log_reg_grid,\n",
    "                          cv=5)\n",
    "\n",
    "# Fit grid hyperparameter search model\n",
    "gs_log_reg.fit(X_train,Y_train);"
   ]
  },
  {
   "cell_type": "code",
   "execution_count": 36,
   "id": "c7a69825",
   "metadata": {
    "execution": {
     "iopub.execute_input": "2022-02-24T11:02:32.244178Z",
     "iopub.status.busy": "2022-02-24T11:02:32.243449Z",
     "iopub.status.idle": "2022-02-24T11:02:32.246150Z",
     "shell.execute_reply": "2022-02-24T11:02:32.246658Z",
     "shell.execute_reply.started": "2022-02-24T10:59:20.804255Z"
    },
    "papermill": {
     "duration": 0.091594,
     "end_time": "2022-02-24T11:02:32.246852",
     "exception": false,
     "start_time": "2022-02-24T11:02:32.155258",
     "status": "completed"
    },
    "tags": []
   },
   "outputs": [
    {
     "data": {
      "text/plain": [
       "{'C': 0.20433597178569418}"
      ]
     },
     "execution_count": 36,
     "metadata": {},
     "output_type": "execute_result"
    }
   ],
   "source": [
    "gs_log_reg.best_params_"
   ]
  },
  {
   "cell_type": "code",
   "execution_count": 37,
   "id": "c2c61d00",
   "metadata": {
    "execution": {
     "iopub.execute_input": "2022-02-24T11:02:32.419957Z",
     "iopub.status.busy": "2022-02-24T11:02:32.419246Z",
     "iopub.status.idle": "2022-02-24T11:02:32.426663Z",
     "shell.execute_reply": "2022-02-24T11:02:32.426033Z",
     "shell.execute_reply.started": "2022-02-24T10:59:20.811922Z"
    },
    "papermill": {
     "duration": 0.096795,
     "end_time": "2022-02-24T11:02:32.426825",
     "exception": false,
     "start_time": "2022-02-24T11:02:32.330030",
     "status": "completed"
    },
    "tags": []
   },
   "outputs": [
    {
     "data": {
      "text/plain": [
       "0.8852459016393442"
      ]
     },
     "execution_count": 37,
     "metadata": {},
     "output_type": "execute_result"
    }
   ],
   "source": [
    "gs_log_reg.score(X_test,Y_test)"
   ]
  },
  {
   "cell_type": "markdown",
   "id": "f956bfea",
   "metadata": {
    "papermill": {
     "duration": 0.08521,
     "end_time": "2022-02-24T11:02:32.597364",
     "exception": false,
     "start_time": "2022-02-24T11:02:32.512154",
     "status": "completed"
    },
    "tags": []
   },
   "source": [
    "## Evaluting our tuned machine learning classifier, beyond accuracy\n",
    "\n",
    "* ROC curve and AUC score\n",
    "* Confusion matrix\n",
    "* Classification report\n",
    "* Precision\n",
    "* Recall\n",
    "* F1-score"
   ]
  },
  {
   "cell_type": "code",
   "execution_count": 38,
   "id": "6f042631",
   "metadata": {
    "execution": {
     "iopub.execute_input": "2022-02-24T11:02:32.778577Z",
     "iopub.status.busy": "2022-02-24T11:02:32.777665Z",
     "iopub.status.idle": "2022-02-24T11:02:32.780152Z",
     "shell.execute_reply": "2022-02-24T11:02:32.780661Z",
     "shell.execute_reply.started": "2022-02-24T10:59:20.823728Z"
    },
    "papermill": {
     "duration": 0.092702,
     "end_time": "2022-02-24T11:02:32.780831",
     "exception": false,
     "start_time": "2022-02-24T11:02:32.688129",
     "status": "completed"
    },
    "tags": []
   },
   "outputs": [],
   "source": [
    "Y_preds = gs_log_reg.predict(X_test)"
   ]
  },
  {
   "cell_type": "code",
   "execution_count": 39,
   "id": "facbd51e",
   "metadata": {
    "execution": {
     "iopub.execute_input": "2022-02-24T11:02:32.954351Z",
     "iopub.status.busy": "2022-02-24T11:02:32.953435Z",
     "iopub.status.idle": "2022-02-24T11:02:32.956839Z",
     "shell.execute_reply": "2022-02-24T11:02:32.957313Z",
     "shell.execute_reply.started": "2022-02-24T10:59:20.831563Z"
    },
    "papermill": {
     "duration": 0.093283,
     "end_time": "2022-02-24T11:02:32.957477",
     "exception": false,
     "start_time": "2022-02-24T11:02:32.864194",
     "status": "completed"
    },
    "tags": []
   },
   "outputs": [
    {
     "data": {
      "text/plain": [
       "array([0, 1, 1, 0, 1, 1, 1, 0, 0, 1, 1, 0, 1, 0, 1, 1, 1, 0, 0, 0, 1, 0,\n",
       "       0, 1, 1, 1, 1, 1, 0, 1, 0, 0, 0, 0, 1, 0, 1, 1, 1, 1, 1, 1, 1, 1,\n",
       "       1, 0, 1, 1, 0, 0, 0, 0, 1, 1, 0, 0, 0, 1, 0, 0, 0])"
      ]
     },
     "execution_count": 39,
     "metadata": {},
     "output_type": "execute_result"
    }
   ],
   "source": [
    "Y_preds"
   ]
  },
  {
   "cell_type": "code",
   "execution_count": 40,
   "id": "c6925279",
   "metadata": {
    "execution": {
     "iopub.execute_input": "2022-02-24T11:02:33.135019Z",
     "iopub.status.busy": "2022-02-24T11:02:33.134199Z",
     "iopub.status.idle": "2022-02-24T11:02:33.137404Z",
     "shell.execute_reply": "2022-02-24T11:02:33.137905Z",
     "shell.execute_reply.started": "2022-02-24T10:59:20.843454Z"
    },
    "papermill": {
     "duration": 0.095798,
     "end_time": "2022-02-24T11:02:33.138075",
     "exception": false,
     "start_time": "2022-02-24T11:02:33.042277",
     "status": "completed"
    },
    "tags": []
   },
   "outputs": [
    {
     "data": {
      "text/plain": [
       "179    0\n",
       "228    0\n",
       "111    1\n",
       "246    0\n",
       "60     1\n",
       "      ..\n",
       "249    0\n",
       "104    1\n",
       "300    0\n",
       "193    0\n",
       "184    0\n",
       "Name: target, Length: 61, dtype: int64"
      ]
     },
     "execution_count": 40,
     "metadata": {},
     "output_type": "execute_result"
    }
   ],
   "source": [
    "Y_test"
   ]
  },
  {
   "cell_type": "code",
   "execution_count": 41,
   "id": "10ab811f",
   "metadata": {
    "execution": {
     "iopub.execute_input": "2022-02-24T11:02:33.346793Z",
     "iopub.status.busy": "2022-02-24T11:02:33.339839Z",
     "iopub.status.idle": "2022-02-24T11:02:33.491396Z",
     "shell.execute_reply": "2022-02-24T11:02:33.491989Z",
     "shell.execute_reply.started": "2022-02-24T10:59:20.857204Z"
    },
    "papermill": {
     "duration": 0.270032,
     "end_time": "2022-02-24T11:02:33.492186",
     "exception": false,
     "start_time": "2022-02-24T11:02:33.222154",
     "status": "completed"
    },
    "tags": []
   },
   "outputs": [
    {
     "data": {
      "image/png": "[encoded data removed]",
      "text/plain": [
       "<Figure size 432x288 with 1 Axes>"
      ]
     },
     "metadata": {
      "needs_background": "light"
     },
     "output_type": "display_data"
    }
   ],
   "source": [
    "# Plot ROC curve and calculate and calculate AUC metric\n",
    "plot_roc_curve(gs_log_reg,X_test,Y_test);"
   ]
  },
  {
   "cell_type": "code",
   "execution_count": 42,
   "id": "7687927f",
   "metadata": {
    "execution": {
     "iopub.execute_input": "2022-02-24T11:02:33.670714Z",
     "iopub.status.busy": "2022-02-24T11:02:33.669715Z",
     "iopub.status.idle": "2022-02-24T11:02:33.676427Z",
     "shell.execute_reply": "2022-02-24T11:02:33.677092Z",
     "shell.execute_reply.started": "2022-02-24T10:59:21.046528Z"
    },
    "papermill": {
     "duration": 0.099501,
     "end_time": "2022-02-24T11:02:33.677300",
     "exception": false,
     "start_time": "2022-02-24T11:02:33.577799",
     "status": "completed"
    },
    "tags": []
   },
   "outputs": [
    {
     "name": "stdout",
     "output_type": "stream",
     "text": [
      "[[25  4]\n",
      " [ 3 29]]\n"
     ]
    }
   ],
   "source": [
    "# Confusion matrix\n",
    "print(confusion_matrix(Y_test,Y_preds))"
   ]
  },
  {
   "cell_type": "code",
   "execution_count": 43,
   "id": "84bae917",
   "metadata": {
    "execution": {
     "iopub.execute_input": "2022-02-24T11:02:33.868748Z",
     "iopub.status.busy": "2022-02-24T11:02:33.868032Z",
     "iopub.status.idle": "2022-02-24T11:02:34.042513Z",
     "shell.execute_reply": "2022-02-24T11:02:34.041967Z",
     "shell.execute_reply.started": "2022-02-24T10:59:21.054416Z"
    },
    "papermill": {
     "duration": 0.263759,
     "end_time": "2022-02-24T11:02:34.042699",
     "exception": false,
     "start_time": "2022-02-24T11:02:33.778940",
     "status": "completed"
    },
    "tags": []
   },
   "outputs": [
    {
     "data": {
      "image/png": "[encoded data removed]",
      "text/plain": [
       "<Figure size 216x216 with 1 Axes>"
      ]
     },
     "metadata": {},
     "output_type": "display_data"
    }
   ],
   "source": [
    "sns.set(font_scale=1.5)\n",
    "\n",
    "def plot_conf_mat(Y_test,Y_preds):\n",
    "    fig , ax = plt.subplots(figsize=(3,3))\n",
    "    ax = sns.heatmap(confusion_matrix(Y_test,Y_preds),\n",
    "                    annot=True,\n",
    "                    cbar=False)\n",
    "    plt.xlabel(\"True Label\")\n",
    "    plt.ylabel(\"Predicted label\")\n",
    "\n",
    "plot_conf_mat(Y_test, Y_preds)    "
   ]
  },
  {
   "cell_type": "code",
   "execution_count": 44,
   "id": "85f9de21",
   "metadata": {
    "execution": {
     "iopub.execute_input": "2022-02-24T11:02:34.223099Z",
     "iopub.status.busy": "2022-02-24T11:02:34.222009Z",
     "iopub.status.idle": "2022-02-24T11:02:34.230715Z",
     "shell.execute_reply": "2022-02-24T11:02:34.231434Z",
     "shell.execute_reply.started": "2022-02-24T10:59:21.201926Z"
    },
    "papermill": {
     "duration": 0.101932,
     "end_time": "2022-02-24T11:02:34.231721",
     "exception": false,
     "start_time": "2022-02-24T11:02:34.129789",
     "status": "completed"
    },
    "tags": []
   },
   "outputs": [
    {
     "name": "stdout",
     "output_type": "stream",
     "text": [
      "              precision    recall  f1-score   support\n",
      "\n",
      "           0       0.89      0.86      0.88        29\n",
      "           1       0.88      0.91      0.89        32\n",
      "\n",
      "    accuracy                           0.89        61\n",
      "   macro avg       0.89      0.88      0.88        61\n",
      "weighted avg       0.89      0.89      0.89        61\n",
      "\n"
     ]
    }
   ],
   "source": [
    "print(classification_report(Y_test,Y_preds))"
   ]
  },
  {
   "cell_type": "markdown",
   "id": "181be941",
   "metadata": {
    "papermill": {
     "duration": 0.086662,
     "end_time": "2022-02-24T11:02:34.408009",
     "exception": false,
     "start_time": "2022-02-24T11:02:34.321347",
     "status": "completed"
    },
    "tags": []
   },
   "source": [
    "## Calculate evaluation metrics using cross-validation"
   ]
  },
  {
   "cell_type": "code",
   "execution_count": 45,
   "id": "7c671f18",
   "metadata": {
    "execution": {
     "iopub.execute_input": "2022-02-24T11:02:34.588942Z",
     "iopub.status.busy": "2022-02-24T11:02:34.587986Z",
     "iopub.status.idle": "2022-02-24T11:02:34.593336Z",
     "shell.execute_reply": "2022-02-24T11:02:34.593929Z",
     "shell.execute_reply.started": "2022-02-24T10:59:21.215080Z"
    },
    "papermill": {
     "duration": 0.099138,
     "end_time": "2022-02-24T11:02:34.594139",
     "exception": false,
     "start_time": "2022-02-24T11:02:34.495001",
     "status": "completed"
    },
    "tags": []
   },
   "outputs": [
    {
     "data": {
      "text/plain": [
       "{'C': 0.20433597178569418}"
      ]
     },
     "execution_count": 45,
     "metadata": {},
     "output_type": "execute_result"
    }
   ],
   "source": [
    "gs_log_reg.best_params_"
   ]
  },
  {
   "cell_type": "code",
   "execution_count": 46,
   "id": "cbc7b215",
   "metadata": {
    "execution": {
     "iopub.execute_input": "2022-02-24T11:02:34.807577Z",
     "iopub.status.busy": "2022-02-24T11:02:34.806440Z",
     "iopub.status.idle": "2022-02-24T11:02:34.808997Z",
     "shell.execute_reply": "2022-02-24T11:02:34.809465Z",
     "shell.execute_reply.started": "2022-02-24T10:59:21.223622Z"
    },
    "papermill": {
     "duration": 0.101002,
     "end_time": "2022-02-24T11:02:34.809729",
     "exception": false,
     "start_time": "2022-02-24T11:02:34.708727",
     "status": "completed"
    },
    "tags": []
   },
   "outputs": [],
   "source": [
    "clf=LogisticRegression(C=0.20433597178569418,solver=\"liblinear\")"
   ]
  },
  {
   "cell_type": "code",
   "execution_count": 47,
   "id": "453ce2d2",
   "metadata": {
    "execution": {
     "iopub.execute_input": "2022-02-24T11:02:34.995672Z",
     "iopub.status.busy": "2022-02-24T11:02:34.994627Z",
     "iopub.status.idle": "2022-02-24T11:02:35.029175Z",
     "shell.execute_reply": "2022-02-24T11:02:35.028617Z",
     "shell.execute_reply.started": "2022-02-24T10:59:21.229537Z"
    },
    "papermill": {
     "duration": 0.130892,
     "end_time": "2022-02-24T11:02:35.029331",
     "exception": false,
     "start_time": "2022-02-24T11:02:34.898439",
     "status": "completed"
    },
    "tags": []
   },
   "outputs": [
    {
     "data": {
      "text/plain": [
       "0.8446994535519124"
      ]
     },
     "execution_count": 47,
     "metadata": {},
     "output_type": "execute_result"
    }
   ],
   "source": [
    "# Cross-validated accuracy\n",
    "cv_acc = cross_val_score(clf,X,Y,cv=5,scoring=\"accuracy\").mean()\n",
    "cv_acc"
   ]
  },
  {
   "cell_type": "code",
   "execution_count": 48,
   "id": "b03d6764",
   "metadata": {
    "execution": {
     "iopub.execute_input": "2022-02-24T11:02:35.208368Z",
     "iopub.status.busy": "2022-02-24T11:02:35.207344Z",
     "iopub.status.idle": "2022-02-24T11:02:35.248659Z",
     "shell.execute_reply": "2022-02-24T11:02:35.249160Z",
     "shell.execute_reply.started": "2022-02-24T10:59:21.263851Z"
    },
    "papermill": {
     "duration": 0.132559,
     "end_time": "2022-02-24T11:02:35.249351",
     "exception": false,
     "start_time": "2022-02-24T11:02:35.116792",
     "status": "completed"
    },
    "tags": []
   },
   "outputs": [
    {
     "data": {
      "text/plain": [
       "0.8207936507936507"
      ]
     },
     "execution_count": 48,
     "metadata": {},
     "output_type": "execute_result"
    }
   ],
   "source": [
    "# Cross-validated precision\n",
    "cv_precision = cross_val_score(clf,X,Y,scoring=\"precision\").mean()\n",
    "cv_precision"
   ]
  },
  {
   "cell_type": "code",
   "execution_count": 49,
   "id": "043c66c5",
   "metadata": {
    "execution": {
     "iopub.execute_input": "2022-02-24T11:02:35.430574Z",
     "iopub.status.busy": "2022-02-24T11:02:35.429597Z",
     "iopub.status.idle": "2022-02-24T11:02:35.472231Z",
     "shell.execute_reply": "2022-02-24T11:02:35.471505Z",
     "shell.execute_reply.started": "2022-02-24T10:59:21.305152Z"
    },
    "papermill": {
     "duration": 0.133919,
     "end_time": "2022-02-24T11:02:35.472392",
     "exception": false,
     "start_time": "2022-02-24T11:02:35.338473",
     "status": "completed"
    },
    "tags": []
   },
   "outputs": [
    {
     "data": {
      "text/plain": [
       "0.9212121212121213"
      ]
     },
     "execution_count": 49,
     "metadata": {},
     "output_type": "execute_result"
    }
   ],
   "source": [
    "# Cross-validated recall\n",
    "cv_recall = cross_val_score(clf,X,Y,scoring=\"recall\").mean()\n",
    "cv_recall"
   ]
  },
  {
   "cell_type": "code",
   "execution_count": 50,
   "id": "40528601",
   "metadata": {
    "execution": {
     "iopub.execute_input": "2022-02-24T11:02:35.657731Z",
     "iopub.status.busy": "2022-02-24T11:02:35.656725Z",
     "iopub.status.idle": "2022-02-24T11:02:35.697395Z",
     "shell.execute_reply": "2022-02-24T11:02:35.697951Z",
     "shell.execute_reply.started": "2022-02-24T10:59:21.346833Z"
    },
    "papermill": {
     "duration": 0.137,
     "end_time": "2022-02-24T11:02:35.698149",
     "exception": false,
     "start_time": "2022-02-24T11:02:35.561149",
     "status": "completed"
    },
    "tags": []
   },
   "outputs": [
    {
     "data": {
      "text/plain": [
       "0.8673007976269721"
      ]
     },
     "execution_count": 50,
     "metadata": {},
     "output_type": "execute_result"
    }
   ],
   "source": [
    "# Cross-validated f1-score\n",
    "cv_f1 = cross_val_score(clf,X,Y,scoring=\"f1\").mean()\n",
    "cv_f1"
   ]
  },
  {
   "cell_type": "code",
   "execution_count": 51,
   "id": "c9c4d38f",
   "metadata": {
    "execution": {
     "iopub.execute_input": "2022-02-24T11:02:35.903059Z",
     "iopub.status.busy": "2022-02-24T11:02:35.888168Z",
     "iopub.status.idle": "2022-02-24T11:02:36.122912Z",
     "shell.execute_reply": "2022-02-24T11:02:36.123419Z",
     "shell.execute_reply.started": "2022-02-24T10:59:21.389598Z"
    },
    "papermill": {
     "duration": 0.337192,
     "end_time": "2022-02-24T11:02:36.123633",
     "exception": false,
     "start_time": "2022-02-24T11:02:35.786441",
     "status": "completed"
    },
    "tags": []
   },
   "outputs": [
    {
     "data": {
      "image/png": "[encoded data removed]",
      "text/plain": [
       "<Figure size 720x432 with 1 Axes>"
      ]
     },
     "metadata": {},
     "output_type": "display_data"
    }
   ],
   "source": [
    "# Visualize cross-validated metrics\n",
    "cv_metrics = pd.DataFrame({\"Accuracy\":cv_acc,\n",
    "                          \"Precision\":cv_precision,\n",
    "                          \"Recall\":cv_recall,\n",
    "                          \"F1-score\":cv_f1},index=[0])\n",
    "cv_metrics.T.plot.bar(title = \"Cross-validated classification metrics\",legend=False,figsize=(10,6));"
   ]
  },
  {
   "cell_type": "markdown",
   "id": "4ee67433",
   "metadata": {
    "papermill": {
     "duration": 0.090408,
     "end_time": "2022-02-24T11:02:36.304360",
     "exception": false,
     "start_time": "2022-02-24T11:02:36.213952",
     "status": "completed"
    },
    "tags": []
   },
   "source": [
    "## Feature Importance"
   ]
  },
  {
   "cell_type": "code",
   "execution_count": 52,
   "id": "7b797d2c",
   "metadata": {
    "execution": {
     "iopub.execute_input": "2022-02-24T11:02:36.490653Z",
     "iopub.status.busy": "2022-02-24T11:02:36.489933Z",
     "iopub.status.idle": "2022-02-24T11:02:36.497835Z",
     "shell.execute_reply": "2022-02-24T11:02:36.498317Z",
     "shell.execute_reply.started": "2022-02-24T10:59:21.596027Z"
    },
    "papermill": {
     "duration": 0.10439,
     "end_time": "2022-02-24T11:02:36.498533",
     "exception": false,
     "start_time": "2022-02-24T11:02:36.394143",
     "status": "completed"
    },
    "tags": []
   },
   "outputs": [],
   "source": [
    "clf = LogisticRegression(C=0.20433597178569418,\n",
    "                         solver=\"liblinear\")\n",
    "clf.fit(X_train,Y_train);"
   ]
  },
  {
   "cell_type": "code",
   "execution_count": 53,
   "id": "ee5c2305",
   "metadata": {
    "execution": {
     "iopub.execute_input": "2022-02-24T11:02:36.682855Z",
     "iopub.status.busy": "2022-02-24T11:02:36.682162Z",
     "iopub.status.idle": "2022-02-24T11:02:36.687996Z",
     "shell.execute_reply": "2022-02-24T11:02:36.688506Z",
     "shell.execute_reply.started": "2022-02-24T10:59:21.605375Z"
    },
    "papermill": {
     "duration": 0.099747,
     "end_time": "2022-02-24T11:02:36.688735",
     "exception": false,
     "start_time": "2022-02-24T11:02:36.588988",
     "status": "completed"
    },
    "tags": []
   },
   "outputs": [
    {
     "data": {
      "text/plain": [
       "array([[ 0.00320769, -0.86062049,  0.66001432, -0.01155971, -0.00166496,\n",
       "         0.04017236,  0.31603405,  0.02458922, -0.60470171, -0.56795456,\n",
       "         0.45085392, -0.63733328, -0.67555094]])"
      ]
     },
     "execution_count": 53,
     "metadata": {},
     "output_type": "execute_result"
    }
   ],
   "source": [
    "# Check coef_\n",
    "clf.coef_"
   ]
  },
  {
   "cell_type": "code",
   "execution_count": 54,
   "id": "1d09d4fc",
   "metadata": {
    "execution": {
     "iopub.execute_input": "2022-02-24T11:02:36.876138Z",
     "iopub.status.busy": "2022-02-24T11:02:36.874998Z",
     "iopub.status.idle": "2022-02-24T11:02:36.882194Z",
     "shell.execute_reply": "2022-02-24T11:02:36.882695Z",
     "shell.execute_reply.started": "2022-02-24T10:59:21.616232Z"
    },
    "papermill": {
     "duration": 0.102295,
     "end_time": "2022-02-24T11:02:36.882924",
     "exception": false,
     "start_time": "2022-02-24T11:02:36.780629",
     "status": "completed"
    },
    "tags": []
   },
   "outputs": [
    {
     "data": {
      "text/plain": [
       "{'age': 0.0032076883508599633,\n",
       " 'sex': -0.8606204883695241,\n",
       " 'cp': 0.660014324982524,\n",
       " 'trestbps': -0.01155970600550047,\n",
       " 'chol': -0.0016649614843449207,\n",
       " 'fbs': 0.040172360271308105,\n",
       " 'restecg': 0.31603405294617176,\n",
       " 'thalach': 0.02458922341328129,\n",
       " 'exang': -0.604701713592625,\n",
       " 'oldpeak': -0.5679545646616215,\n",
       " 'slope': 0.4508539209693025,\n",
       " 'ca': -0.6373332766360461,\n",
       " 'thal': -0.6755509369619848}"
      ]
     },
     "execution_count": 54,
     "metadata": {},
     "output_type": "execute_result"
    }
   ],
   "source": [
    "# Match coef's of features to columns\n",
    "features_dict = dict(zip(df.columns,list(clf.coef_[0])))\n",
    "features_dict                     "
   ]
  },
  {
   "cell_type": "code",
   "execution_count": 55,
   "id": "2ce50ba1",
   "metadata": {
    "execution": {
     "iopub.execute_input": "2022-02-24T11:02:37.070277Z",
     "iopub.status.busy": "2022-02-24T11:02:37.069279Z",
     "iopub.status.idle": "2022-02-24T11:02:37.412070Z",
     "shell.execute_reply": "2022-02-24T11:02:37.412528Z",
     "shell.execute_reply.started": "2022-02-24T10:59:21.626231Z"
    },
    "papermill": {
     "duration": 0.437678,
     "end_time": "2022-02-24T11:02:37.412750",
     "exception": false,
     "start_time": "2022-02-24T11:02:36.975072",
     "status": "completed"
    },
    "tags": []
   },
   "outputs": [
    {
     "data": {
      "text/plain": [
       "<AxesSubplot:title={'center':'Feature Importance'}>"
      ]
     },
     "execution_count": 55,
     "metadata": {},
     "output_type": "execute_result"
    },
    {
     "data": {
      "image/png": "[encoded data removed]",
      "text/plain": [
       "<Figure size 720x432 with 1 Axes>"
      ]
     },
     "metadata": {},
     "output_type": "display_data"
    }
   ],
   "source": [
    "# Visualize feature importance\n",
    "features_df = pd.DataFrame(features_dict,index=[0])\n",
    "features_df.T.plot.bar(title=\"Feature Importance\",legend=False,figsize=(10,6))"
   ]
  },
  {
   "cell_type": "code",
   "execution_count": null,
   "id": "2a52427a",
   "metadata": {
    "papermill": {
     "duration": 0.093147,
     "end_time": "2022-02-24T11:02:37.600671",
     "exception": false,
     "start_time": "2022-02-24T11:02:37.507524",
     "status": "completed"
    },
    "tags": []
   },
   "outputs": [],
   "source": []
  }
 ],
 "metadata": {
  "kernelspec": {
   "display_name": "Python 3",
   "language": "python",
   "name": "python3"
  },
  "language_info": {
   "codemirror_mode": {
    "name": "ipython",
    "version": 3
   },
   "file_extension": ".py",
   "mimetype": "text/x-python",
   "name": "python",
   "nbconvert_exporter": "python",
   "pygments_lexer": "ipython3",
   "version": "3.7.12"
  },
  "papermill": {
   "default_parameters": {},
   "duration": 122.988851,
   "end_time": "2022-02-24T11:02:38.708789",
   "environment_variables": {},
   "exception": null,
   "input_path": "__notebook__.ipynb",
   "output_path": "__notebook__.ipynb",
   "parameters": {},
   "start_time": "2022-02-24T11:00:35.719938",
   "version": "2.3.3"
  }
 },
 "nbformat": 4,
 "nbformat_minor": 5
}
